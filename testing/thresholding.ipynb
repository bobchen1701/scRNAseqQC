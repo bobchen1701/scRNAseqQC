{
 "cells": [
  {
   "cell_type": "markdown",
   "metadata": {},
   "source": [
    "## Data and Package Importing"
   ]
  },
  {
   "cell_type": "code",
   "execution_count": 310,
   "metadata": {},
   "outputs": [],
   "source": [
    "import sys\n",
    "sys.path.append('../')\n",
    "from QC_old import *\n",
    "sc.settings.set_figure_params(dpi=80, frameon=False)"
   ]
  },
  {
   "cell_type": "code",
   "execution_count": 311,
   "metadata": {},
   "outputs": [
    {
     "data": {
      "text/plain": [
       "'/home/victoria/anaconda3/envs/LauLab/bin/python'"
      ]
     },
     "execution_count": 311,
     "metadata": {},
     "output_type": "execute_result"
    }
   ],
   "source": [
    "sys.executable"
   ]
  },
  {
   "cell_type": "markdown",
   "metadata": {},
   "source": [
    "### Load data and preprocess"
   ]
  },
  {
   "cell_type": "code",
   "execution_count": 340,
   "metadata": {},
   "outputs": [
    {
     "name": "stdout",
     "output_type": "stream",
     "text": [
      "CPU times: user 3.91 s, sys: 172 ms, total: 4.08 s\n",
      "Wall time: 4.07 s\n"
     ]
    }
   ],
   "source": [
    "%time s1 = sc.read_h5ad('../data/3777-SM-2-CTTGTA_S2.h5ad') # read in one of the annotated example files"
   ]
  },
  {
   "cell_type": "code",
   "execution_count": 341,
   "metadata": {},
   "outputs": [
    {
     "data": {
      "text/plain": [
       "AnnData object with n_obs × n_vars = 5754 × 38459 \n",
       "    obs: 'ken_filter'"
      ]
     },
     "execution_count": 341,
     "metadata": {},
     "output_type": "execute_result"
    }
   ],
   "source": [
    "s1 # see contents of AnnData object"
   ]
  },
  {
   "cell_type": "markdown",
   "metadata": {},
   "source": [
    "Standard preprocessing to get metadata for barcodes:"
   ]
  },
  {
   "cell_type": "code",
   "execution_count": 342,
   "metadata": {},
   "outputs": [],
   "source": [
    "# checkpoint raw data for future filtering\n",
    "s1.raw = s1"
   ]
  },
  {
   "cell_type": "code",
   "execution_count": 343,
   "metadata": {},
   "outputs": [
    {
     "name": "stdout",
     "output_type": "stream",
     "text": [
      "CPU times: user 1.45 s, sys: 939 ms, total: 2.38 s\n",
      "Wall time: 2.76 s\n"
     ]
    }
   ],
   "source": [
    "%%time\n",
    "# quick reordering of AnnData object, since our inflection point analysis assumes that libraries are sorted from highest to lowest quality\n",
    "reorder_adata(s1)\n",
    "\n",
    "# create new \"observations\" as percent and mean mito genes\n",
    "s1.var['mito'] = s1.var_names.str.contains('mt-') # identify mitochondrial genes\n",
    "s1.obs['mean_mito'] = np.mean(s1[:,s1.var['mito']].X, axis=1) # add average mitochondrial expression to .obs\n",
    "sc.pp.calculate_qc_metrics(s1, qc_vars=['mito'], inplace=True) # calculate standard qc .obs and .var\n",
    "\n",
    "# rank cells by total counts and save as .obs\n",
    "s1.obs['ranked_total_counts'] = np.argsort(s1.obs['total_counts'])"
   ]
  },
  {
   "cell_type": "markdown",
   "metadata": {},
   "source": [
    "### Thresholding\n",
    "Let's try employing automated threshold picking from [scikit-image](https://scikit-image.org/docs/dev/api/skimage.filters.html) to determine the cutoff between our __empty__ and __non-empty__ droplets."
   ]
  },
  {
   "cell_type": "code",
   "execution_count": 344,
   "metadata": {},
   "outputs": [],
   "source": [
    "from skimage.filters import threshold_li, threshold_otsu, threshold_isodata, threshold_mean, threshold_yen, threshold_triangle # popular thresholding methods\n",
    "from scipy.stats import mode"
   ]
  },
  {
   "cell_type": "code",
   "execution_count": 345,
   "metadata": {},
   "outputs": [],
   "source": [
    "maxArray = np.array(s1.obs['log1p_total_counts'])"
   ]
  },
  {
   "cell_type": "code",
   "execution_count": 346,
   "metadata": {},
   "outputs": [],
   "source": [
    "# use both Otsu's and Li's methods on the log-transformed total counts for each barcode:\n",
    "threshOtsu = threshold_otsu(np.array(s1.obs['log1p_total_counts']))\n",
    "threshLi = threshold_li(np.array(s1.obs['log1p_total_counts']))\n",
    "threshIsodata = threshold_isodata(np.array(s1.obs['log1p_total_counts']))\n",
    "threshMean = threshold_mean(np.array(s1.obs['log1p_total_counts']))\n",
    "threshYen = threshold_yen(np.array(s1.obs['log1p_total_counts']))\n",
    "threshTriangle = threshold_triangle(np.array(s1.obs['log1p_total_counts']))\n",
    "globalMax = mode(maxArray)   #sorta works, returns 5.92, too low"
   ]
  },
  {
   "cell_type": "code",
   "execution_count": 347,
   "metadata": {},
   "outputs": [
    {
     "data": {
      "text/plain": [
       "ModeResult(mode=array([5.488938], dtype=float32), count=array([34]))"
      ]
     },
     "execution_count": 347,
     "metadata": {},
     "output_type": "execute_result"
    }
   ],
   "source": [
    "globalMax"
   ]
  },
  {
   "cell_type": "markdown",
   "metadata": {},
   "source": [
    "Plot Otsu and Li thresholds on `log1p_total_counts`:"
   ]
  },
  {
   "cell_type": "code",
   "execution_count": 348,
   "metadata": {},
   "outputs": [
    {
     "data": {
      "text/plain": [
       "<matplotlib.lines.Line2D at 0x7f2038407a50>"
      ]
     },
     "execution_count": 348,
     "metadata": {},
     "output_type": "execute_result"
    },
    {
     "data": {
      "image/png": "[encoded data removed]",
      "text/plain": [
       "<Figure size 320x320 with 1 Axes>"
      ]
     },
     "metadata": {
      "image/png": {
       "height": 287,
       "width": 308
      },
      "needs_background": "light"
     },
     "output_type": "display_data"
    }
   ],
   "source": [
    "_ = plt.hist(s1.obs['log1p_total_counts'], bins=50)\n",
    "plt.axvline(threshOtsu, color='r') # otsu threshold\n",
    "plt.axvline(threshLi, color='g') # li threshold\n",
    "plt.axvline(threshMean, color='y')\n",
    "#plt.axvline(threshYen, color='b')\n",
    "plt.axvline(threshTriangle, color='c')"
   ]
  },
  {
   "cell_type": "markdown",
   "metadata": {},
   "source": [
    "### Real Max Thresholding\n",
    "Threshold the entire range with threshold_mean, and then find the max peak within the range of 0 to threshold_mean"
   ]
  },
  {
   "cell_type": "code",
   "execution_count": 280,
   "metadata": {},
   "outputs": [],
   "source": [
    "# get subset of array from 0 to where the threshold ends\n",
    "firstArray = _[0]\n",
    "secondArray = _[1]\n",
    "secondArrayEnd = np.where(secondArray <= threshMean)\n",
    "subFirstArray = firstArray[slice(0, np.amax(secondArrayEnd))]\n",
    "subSecondArray = secondArray[slice(0, np.amax(secondArrayEnd))]"
   ]
  },
  {
   "cell_type": "code",
   "execution_count": 350,
   "metadata": {},
   "outputs": [
    {
     "data": {
      "text/plain": [
       "array([2.4849067, 2.6438468, 2.8027868, 2.9617267, 3.1206667, 3.2796068,\n",
       "       3.438547 , 3.5974867, 3.7564268, 3.915367 , 4.074307 , 4.233247 ,\n",
       "       4.392187 , 4.551127 , 4.710067 , 4.869007 , 5.027947 , 5.186887 ,\n",
       "       5.345827 , 5.504767 , 5.6637073, 5.822647 , 5.981587 , 6.1405272],\n",
       "      dtype=float32)"
      ]
     },
     "execution_count": 350,
     "metadata": {},
     "output_type": "execute_result"
    }
   ],
   "source": [
    "subSecondArray"
   ]
  },
  {
   "cell_type": "code",
   "execution_count": 281,
   "metadata": {},
   "outputs": [],
   "source": [
    "# find the peak of a distribution within the range of 0 and the threshold\n",
    "maxValue = max(subFirstArray)\n",
    "maxIndex = np.where(subFirstArray == np.amax(subFirstArray))\n",
    "realMax = subSecondArray[maxIndex]"
   ]
  },
  {
   "cell_type": "code",
   "execution_count": 282,
   "metadata": {},
   "outputs": [
    {
     "data": {
      "text/plain": [
       "(array([  3.,   2.,   2.,   2.,   4.,   1.,   1.,   1.,   1.,   1.,   1.,\n",
       "          0.,   0.,   4.,   6.,  12.,  32., 245., 810., 807., 594., 373.,\n",
       "        245., 180., 201., 174., 169., 180., 199., 168., 146., 161., 113.,\n",
       "         94.,  95.,  77.,  92.,  90.,  74.,  89.,  88.,  70.,  47.,  40.,\n",
       "         26.,  18.,   4.,   9.,   2.,   1.]),\n",
       " array([ 2.4849067,  2.6438468,  2.8027868,  2.9617267,  3.1206667,\n",
       "         3.2796068,  3.438547 ,  3.5974867,  3.7564268,  3.915367 ,\n",
       "         4.074307 ,  4.233247 ,  4.392187 ,  4.551127 ,  4.710067 ,\n",
       "         4.869007 ,  5.027947 ,  5.186887 ,  5.345827 ,  5.504767 ,\n",
       "         5.6637073,  5.822647 ,  5.981587 ,  6.1405272,  6.299467 ,\n",
       "         6.4584074,  6.6173472,  6.776287 ,  6.9352274,  7.094167 ,\n",
       "         7.253107 ,  7.4120474,  7.570987 ,  7.7299275,  7.8888674,\n",
       "         8.047808 ,  8.206747 ,  8.365687 ,  8.524628 ,  8.683567 ,\n",
       "         8.842507 ,  9.001448 ,  9.160387 ,  9.319327 ,  9.478268 ,\n",
       "         9.637208 ,  9.796147 ,  9.955088 , 10.114028 , 10.272967 ,\n",
       "        10.431908 ], dtype=float32),\n",
       " <a list of 50 Patch objects>)"
      ]
     },
     "execution_count": 282,
     "metadata": {},
     "output_type": "execute_result"
    }
   ],
   "source": [
    "_"
   ]
  },
  {
   "cell_type": "code",
   "execution_count": 351,
   "metadata": {},
   "outputs": [
    {
     "data": {
      "text/plain": [
       "5.345827"
      ]
     },
     "execution_count": 351,
     "metadata": {},
     "output_type": "execute_result"
    }
   ],
   "source": [
    "realMax[0]"
   ]
  },
  {
   "cell_type": "markdown",
   "metadata": {},
   "source": [
    "### Double Thresholding\n",
    "Threshold the entire range with threshold_mean, and then threshold the range of 0 to threshold_mean with threshold_li"
   ]
  },
  {
   "cell_type": "code",
   "execution_count": 283,
   "metadata": {},
   "outputs": [],
   "source": [
    "# get subset of array from 0 to where the threshold ends\n",
    "firstArrayDouble = _[0]\n",
    "secondArrayDouble = _[1]\n",
    "secondArrayEndDouble = np.where(secondArrayDouble <= threshMean)\n",
    "subFirstArrayDouble = firstArrayDouble[slice(0, np.amax(secondArrayEndDouble))]\n",
    "subSecondArrayDouble = secondArrayDouble[slice(0, np.amax(secondArrayEndDouble))]"
   ]
  },
  {
   "cell_type": "code",
   "execution_count": 284,
   "metadata": {},
   "outputs": [],
   "source": [
    "# threshold using thresh_li within the range of 0 and the threshold\n",
    "dtMeanLi = threshold_li(subSecondArrayDouble)\n",
    "dtMeanMean = threshold_mean(subSecondArrayDouble)"
   ]
  },
  {
   "cell_type": "code",
   "execution_count": 285,
   "metadata": {},
   "outputs": [],
   "source": [
    "def thresholdSelection():\n",
    "    mid = (secondArray[0] + secondArray[-1]) / 2\n",
    "    if (realMax[0] >= (mid * 0.8)):\n",
    "        return dtMeanMean\n",
    "    else:\n",
    "        return realMax[0]"
   ]
  },
  {
   "cell_type": "code",
   "execution_count": 286,
   "metadata": {},
   "outputs": [
    {
     "data": {
      "text/plain": [
       "4.312717"
      ]
     },
     "execution_count": 286,
     "metadata": {},
     "output_type": "execute_result"
    }
   ],
   "source": [
    "thresholdSelection()"
   ]
  },
  {
   "cell_type": "markdown",
   "metadata": {},
   "source": [
    "### Find inflection point"
   ]
  },
  {
   "cell_type": "code",
   "execution_count": 287,
   "metadata": {},
   "outputs": [
    {
     "data": {
      "image/png": "[encoded data removed]",
      "text/plain": [
       "<Figure size 1440x720 with 1 Axes>"
      ]
     },
     "metadata": {
      "needs_background": "light"
     },
     "output_type": "display_data"
    },
    {
     "name": "stdout",
     "output_type": "stream",
     "text": [
      "Inflection point at index\n",
      "3839    1292\n",
      "4089     609\n",
      "1817    4195\n",
      "0       5753\n",
      "Name: total_counts, dtype: int64 for [0, 31, 70, 100] percentiles of greatest secant distances\n"
     ]
    },
    {
     "data": {
      "text/plain": [
       "{0: 1292, 31: 609, 70: 4195, 100: 5753}"
      ]
     },
     "execution_count": 287,
     "metadata": {},
     "output_type": "execute_result"
    }
   ],
   "source": [
    "# inflection_percentiles are percentages of maximum secant distance. we wanna pick one to the right of the maximum\n",
    "find_inflection(s1, inflection_percentiles = [0,31,70,100], output_prefix='')"
   ]
  },
  {
   "cell_type": "markdown",
   "metadata": {},
   "source": [
    "The purple cutoff looks pretty good if we were manually filtering the data. Let's see how many total counts and log1p-transformed total counts the cell at that position has:"
   ]
  },
  {
   "cell_type": "code",
   "execution_count": 288,
   "metadata": {},
   "outputs": [
    {
     "data": {
      "text/plain": [
       "319.0"
      ]
     },
     "execution_count": 288,
     "metadata": {},
     "output_type": "execute_result"
    }
   ],
   "source": [
    "s1.obs['total_counts'][3401] # see the total counts for the cutoff point"
   ]
  },
  {
   "cell_type": "code",
   "execution_count": 289,
   "metadata": {},
   "outputs": [
    {
     "data": {
      "text/plain": [
       "5.768321"
      ]
     },
     "execution_count": 289,
     "metadata": {},
     "output_type": "execute_result"
    }
   ],
   "source": [
    "s1.obs['log1p_total_counts'][3401] # see the log-transformed total counts for the cutoff point; this should be close to otsu or li threshold"
   ]
  },
  {
   "cell_type": "markdown",
   "metadata": {},
   "source": [
    "So the above number should correspond to a cutoff between the two 'lumps' in our `log1p_total_counts` distribution, and it looks close to our `Otsu` and `Li` thresholds.  \n",
    "Let's plot it to compare to the automated thresholds from `skimage`:"
   ]
  },
  {
   "cell_type": "code",
   "execution_count": 290,
   "metadata": {},
   "outputs": [],
   "source": [
    "# find min counts of cells ken_filter marked as 1\n",
    "log1pTotalCountsFilter = np.where(s1.obs[\"ken_filter\"] == 1)[0]\n",
    "subsetLog1pTotalCounts = s1.obs.iloc[log1pTotalCountsFilter][\"log1p_total_counts\"]\n",
    "minCellCounts = np.percentile(subsetLog1pTotalCounts, q = 0)"
   ]
  },
  {
   "cell_type": "code",
   "execution_count": 291,
   "metadata": {},
   "outputs": [
    {
     "data": {
      "text/plain": [
       "3.25809645652771"
      ]
     },
     "execution_count": 291,
     "metadata": {},
     "output_type": "execute_result"
    }
   ],
   "source": [
    "minCellCounts"
   ]
  },
  {
   "cell_type": "code",
   "execution_count": 292,
   "metadata": {},
   "outputs": [],
   "source": [
    "#log1pTotalCountsFilterEmpty = np.where(s1.obs[\"empty\"] == 1)[0]\n",
    "#subsetLog1pTotalCountsEmpty = s1.obs.iloc[log1pTotalCountsFilterEmpty][\"log1p_total_counts\"]\n",
    "#minCellCountsEmpty = np.percentile(subsetLog1pTotalCountsEmpty, q = 100)"
   ]
  },
  {
   "cell_type": "code",
   "execution_count": 293,
   "metadata": {},
   "outputs": [
    {
     "data": {
      "text/plain": [
       "<matplotlib.lines.Line2D at 0x7f2048661750>"
      ]
     },
     "execution_count": 293,
     "metadata": {},
     "output_type": "execute_result"
    },
    {
     "data": {
      "image/png": "[encoded data removed]",
      "text/plain": [
       "<Figure size 432x288 with 1 Axes>"
      ]
     },
     "metadata": {
      "needs_background": "light"
     },
     "output_type": "display_data"
    }
   ],
   "source": [
    "_ = plt.hist(s1.obs['log1p_total_counts'], bins=50)\n",
    "#plt.axvline(threshOtsu, color='r') # otsu\n",
    "#plt.axvline(threshLi, color='g') # li\n",
    "plt.axvline(threshMean, color='r') # red\n",
    "#plt.axvline(threshYen, color='b')\n",
    "#plt.axvline(threshTriangle, color='m')\n",
    "plt.axvline(realMax[0], color='k') # black\n",
    "plt.axvline(minCellCounts, color='c') # cyan\n",
    "#plt.axvline(dtMeanLi, color = 'g') # green\n",
    "plt.axvline(dtMeanMean, color = 'm') # magenta\n",
    "plt.axvline(thresholdSelection(), color = 'g')\n",
    "#plt.axvline(s1.obs['log1p_total_counts'][3401], color='y') # threshold chosen from one of the inflection point percentage cutoffs"
   ]
  },
  {
   "cell_type": "code",
   "execution_count": 294,
   "metadata": {},
   "outputs": [
    {
     "data": {
      "text/plain": [
       "208.73128"
      ]
     },
     "execution_count": 294,
     "metadata": {},
     "output_type": "execute_result"
    }
   ],
   "source": [
    "np.expm1(realMax[0])"
   ]
  },
  {
   "cell_type": "code",
   "execution_count": 218,
   "metadata": {},
   "outputs": [
    {
     "data": {
      "text/plain": [
       "568.56177"
      ]
     },
     "execution_count": 218,
     "metadata": {},
     "output_type": "execute_result"
    }
   ],
   "source": [
    "np.expm1(dtMeanLi)"
   ]
  },
  {
   "cell_type": "code",
   "execution_count": 219,
   "metadata": {},
   "outputs": [
    {
     "data": {
      "text/plain": [
       "702.9658"
      ]
     },
     "execution_count": 219,
     "metadata": {},
     "output_type": "execute_result"
    }
   ],
   "source": [
    "np.expm1(dtMeanMean)"
   ]
  },
  {
   "cell_type": "code",
   "execution_count": 220,
   "metadata": {},
   "outputs": [],
   "source": [
    "#s1.obs.index"
   ]
  },
  {
   "cell_type": "code",
   "execution_count": 221,
   "metadata": {},
   "outputs": [],
   "source": [
    "expmRealMax = np.expm1(realMax[0])\n",
    "expmThreshMean = np.expm1(threshMean)\n",
    "expmDtMeanMean = np.expm1(dtMeanMean)\n",
    "expmDtMeanLi = np.expm1(dtMeanLi)"
   ]
  },
  {
   "cell_type": "code",
   "execution_count": 222,
   "metadata": {},
   "outputs": [],
   "source": [
    "emptyDropsThresh = pd.read_csv(\"emptyDrops-thresh-2771-S3.csv\")"
   ]
  },
  {
   "cell_type": "code",
   "execution_count": 223,
   "metadata": {},
   "outputs": [],
   "source": [
    "# only use when barcode data type does not match with index data type\n",
    "emptyDropsThresh.barcode = emptyDropsThresh.barcode.astype(str)"
   ]
  },
  {
   "cell_type": "code",
   "execution_count": 224,
   "metadata": {},
   "outputs": [
    {
     "ename": "ValueError",
     "evalue": "Length does not match.",
     "output_type": "error",
     "traceback": [
      "\u001b[0;31m---------------------------------------------------------------------------\u001b[0m",
      "\u001b[0;31mValueError\u001b[0m                                Traceback (most recent call last)",
      "\u001b[0;32m<ipython-input-224-eec8e276cbb4>\u001b[0m in \u001b[0;36m<module>\u001b[0;34m\u001b[0m\n\u001b[0;32m----> 1\u001b[0;31m \u001b[0ms1\u001b[0m\u001b[0;34m.\u001b[0m\u001b[0mobs\u001b[0m \u001b[0;34m=\u001b[0m \u001b[0ms1\u001b[0m\u001b[0;34m.\u001b[0m\u001b[0mobs\u001b[0m\u001b[0;34m.\u001b[0m\u001b[0mmerge\u001b[0m\u001b[0;34m(\u001b[0m\u001b[0memptyDropsThresh\u001b[0m\u001b[0;34m,\u001b[0m \u001b[0mleft_on\u001b[0m \u001b[0;34m=\u001b[0m \u001b[0;34m'index'\u001b[0m\u001b[0;34m,\u001b[0m \u001b[0mright_on\u001b[0m \u001b[0;34m=\u001b[0m \u001b[0;34m'barcode'\u001b[0m\u001b[0;34m)\u001b[0m\u001b[0;34m\u001b[0m\u001b[0;34m\u001b[0m\u001b[0m\n\u001b[0m",
      "\u001b[0;32m~/anaconda3/envs/LauLab/lib/python3.7/site-packages/anndata/core/anndata.py\u001b[0m in \u001b[0;36mobs\u001b[0;34m(self, value)\u001b[0m\n\u001b[1;32m    972\u001b[0m             \u001b[0;32mraise\u001b[0m \u001b[0mValueError\u001b[0m\u001b[0;34m(\u001b[0m\u001b[0;34m'Can only assign pd.DataFrame.'\u001b[0m\u001b[0;34m)\u001b[0m\u001b[0;34m\u001b[0m\u001b[0;34m\u001b[0m\u001b[0m\n\u001b[1;32m    973\u001b[0m         \u001b[0;32mif\u001b[0m \u001b[0mlen\u001b[0m\u001b[0;34m(\u001b[0m\u001b[0mvalue\u001b[0m\u001b[0;34m)\u001b[0m \u001b[0;34m!=\u001b[0m \u001b[0mself\u001b[0m\u001b[0;34m.\u001b[0m\u001b[0mn_obs\u001b[0m\u001b[0;34m:\u001b[0m\u001b[0;34m\u001b[0m\u001b[0;34m\u001b[0m\u001b[0m\n\u001b[0;32m--> 974\u001b[0;31m             \u001b[0;32mraise\u001b[0m \u001b[0mValueError\u001b[0m\u001b[0;34m(\u001b[0m\u001b[0;34m'Length does not match.'\u001b[0m\u001b[0;34m)\u001b[0m\u001b[0;34m\u001b[0m\u001b[0;34m\u001b[0m\u001b[0m\n\u001b[0m\u001b[1;32m    975\u001b[0m         \u001b[0mutils\u001b[0m\u001b[0;34m.\u001b[0m\u001b[0mwarn_no_string_index\u001b[0m\u001b[0;34m(\u001b[0m\u001b[0mvalue\u001b[0m\u001b[0;34m.\u001b[0m\u001b[0mindex\u001b[0m\u001b[0;34m)\u001b[0m\u001b[0;34m\u001b[0m\u001b[0;34m\u001b[0m\u001b[0m\n\u001b[1;32m    976\u001b[0m         \u001b[0;32mif\u001b[0m \u001b[0mself\u001b[0m\u001b[0;34m.\u001b[0m\u001b[0misview\u001b[0m\u001b[0;34m:\u001b[0m\u001b[0;34m\u001b[0m\u001b[0;34m\u001b[0m\u001b[0m\n",
      "\u001b[0;31mValueError\u001b[0m: Length does not match."
     ]
    }
   ],
   "source": [
    "s1.obs = s1.obs.merge(emptyDropsThresh, left_on = 'index', right_on = 'barcode')"
   ]
  },
  {
   "cell_type": "code",
   "execution_count": null,
   "metadata": {},
   "outputs": [],
   "source": [
    "s1.obs.loc[s1.obs[\"total_counts\"] <= expmRealMax, \"real_max_filter\"] = 0\n",
    "s1.obs.loc[s1.obs[\"total_counts\"] > expmRealMax, \"real_max_filter\"] = 1\n",
    "realMaxIndex = np.where(s1.obs[\"real_max_filter\"] == 0)[0]"
   ]
  },
  {
   "cell_type": "code",
   "execution_count": null,
   "metadata": {},
   "outputs": [],
   "source": [
    "s1.obs.loc[s1.obs[\"total_counts\"] <= expmDtMeanLi, \"double_thresh_mean_li\"] = 0\n",
    "s1.obs.loc[s1.obs[\"total_counts\"] > expmDtMeanLi, \"double_thresh_mean_li\"] = 1\n",
    "dtMeanLiIndex = np.where(s1.obs[\"double_thresh_mean_li\"] == 0)[0]"
   ]
  },
  {
   "cell_type": "code",
   "execution_count": null,
   "metadata": {},
   "outputs": [],
   "source": [
    "s1.obs.loc[s1.obs[\"total_counts\"] <= expmDtMeanMean, \"double_thresh_mean_mean\"] = 0\n",
    "s1.obs.loc[s1.obs[\"total_counts\"] > expmDtMeanMean, \"double_thresh_mean_mean\"] = 1\n",
    "dtMeanMeanIndex = np.where(s1.obs[\"double_thresh_mean_mean\"] == 0)[0]"
   ]
  },
  {
   "cell_type": "code",
   "execution_count": null,
   "metadata": {},
   "outputs": [],
   "source": [
    "s1.obs.loc[s1.obs[\"total_counts\"] <= expmThreshMean, \"thresh_mean_filter\"] = 0\n",
    "s1.obs.loc[s1.obs[\"total_counts\"] > expmThreshMean, \"thresh_mean_filter\"] = 1\n",
    "threshMeanIndex = np.where(s1.obs[\"thresh_mean_filter\"] == 0)[0]"
   ]
  },
  {
   "cell_type": "code",
   "execution_count": null,
   "metadata": {},
   "outputs": [],
   "source": [
    "kenIndex = np.where(s1.obs[\"ken_filter\"] == 0)[0]\n",
    "emptyDropsIndex = np.where(s1.obs[\"empty\"] == 1)[0]"
   ]
  },
  {
   "cell_type": "code",
   "execution_count": null,
   "metadata": {},
   "outputs": [],
   "source": [
    "# get the total number of cells that are not empty\n",
    "numCellsRealMax = s1.obs[\"barcode\"].count() - s1.obs[\"real_max_filter\"].sum()\n",
    "numCellsDtMeanLi = s1.obs[\"barcode\"].count() - s1.obs[\"double_thresh_mean_li\"].sum()\n",
    "numCellsDtMeanMean = s1.obs[\"barcode\"].count() - s1.obs[\"double_thresh_mean_mean\"].sum()\n",
    "numCellsEmptyDrops = s1.obs[\"empty\"].sum()"
   ]
  },
  {
   "cell_type": "code",
   "execution_count": null,
   "metadata": {},
   "outputs": [],
   "source": [
    "print(\"number of cells real max: \", numCellsRealMax)\n",
    "print(\"number of cells double thresh mean li: \", numCellsDtMeanLi)\n",
    "print(\"number of cells double thresh mean mean: \", numCellsDtMeanMean)\n",
    "print(\"number of cells emptyDrops: \", numCellsEmptyDrops)"
   ]
  },
  {
   "cell_type": "markdown",
   "metadata": {},
   "source": [
    "### Percent Real Max Thresholding"
   ]
  },
  {
   "cell_type": "code",
   "execution_count": 109,
   "metadata": {},
   "outputs": [],
   "source": [
    "numCellsRealMax30 = int(np.round(numCellsRealMax * 0.3))\n",
    "numCellsRealMax50 = int(np.round(numCellsRealMax * 0.5))\n",
    "numCellsRealMax70 = int(np.round(numCellsRealMax * 0.7))\n",
    "numCellsRealMax80 = int(np.round(numCellsRealMax * 0.8))\n",
    "numCellsRealMax90 = int(np.round(numCellsRealMax * 0.9))"
   ]
  },
  {
   "cell_type": "code",
   "execution_count": 110,
   "metadata": {},
   "outputs": [],
   "source": [
    "realMax30 = s1.obs.iloc[-numCellsRealMax30,][\"log1p_total_counts\"]\n",
    "realMax50 = s1.obs.iloc[-numCellsRealMax50,][\"log1p_total_counts\"]\n",
    "realMax70 = s1.obs.iloc[-numCellsRealMax70,][\"log1p_total_counts\"]\n",
    "realMax80 = s1.obs.iloc[-numCellsRealMax80,][\"log1p_total_counts\"]\n",
    "realMax90 = s1.obs.iloc[-numCellsRealMax90,][\"log1p_total_counts\"]"
   ]
  },
  {
   "cell_type": "code",
   "execution_count": 111,
   "metadata": {},
   "outputs": [
    {
     "data": {
      "text/plain": [
       "<matplotlib.lines.Line2D at 0x7f213c9d7550>"
      ]
     },
     "execution_count": 111,
     "metadata": {},
     "output_type": "execute_result"
    },
    {
     "data": {
      "image/png": "[encoded data removed]",
      "text/plain": [
       "<Figure size 432x288 with 1 Axes>"
      ]
     },
     "metadata": {
      "needs_background": "light"
     },
     "output_type": "display_data"
    }
   ],
   "source": [
    "_ = plt.hist(s1.obs['log1p_total_counts'], bins=50)\n",
    "plt.axvline(realMax[0], color = 'k')\n",
    "plt.axvline(dtMeanMean, color = 'm')\n",
    "#plt.axvline(realMax90, color='r')\n",
    "#plt.axvline(realMax80, color='g')\n",
    "#plt.axvline(realMax70, color='m')\n",
    "plt.axvline(realMax30, color = 'r')"
   ]
  },
  {
   "cell_type": "code",
   "execution_count": 112,
   "metadata": {},
   "outputs": [
    {
     "data": {
      "text/plain": [
       "204.99998"
      ]
     },
     "execution_count": 112,
     "metadata": {},
     "output_type": "execute_result"
    }
   ],
   "source": [
    "np.expm1(realMax70)"
   ]
  },
  {
   "cell_type": "code",
   "execution_count": 113,
   "metadata": {},
   "outputs": [
    {
     "data": {
      "text/html": [
       "<div>\n",
       "<style scoped>\n",
       "    .dataframe tbody tr th:only-of-type {\n",
       "        vertical-align: middle;\n",
       "    }\n",
       "\n",
       "    .dataframe tbody tr th {\n",
       "        vertical-align: top;\n",
       "    }\n",
       "\n",
       "    .dataframe thead th {\n",
       "        text-align: right;\n",
       "    }\n",
       "</style>\n",
       "<table border=\"1\" class=\"dataframe\">\n",
       "  <thead>\n",
       "    <tr style=\"text-align: right;\">\n",
       "      <th></th>\n",
       "      <th>ken_filter</th>\n",
       "      <th>mean_mito</th>\n",
       "      <th>n_genes_by_counts</th>\n",
       "      <th>log1p_n_genes_by_counts</th>\n",
       "      <th>total_counts</th>\n",
       "      <th>log1p_total_counts</th>\n",
       "      <th>pct_counts_in_top_50_genes</th>\n",
       "      <th>pct_counts_in_top_100_genes</th>\n",
       "      <th>pct_counts_in_top_200_genes</th>\n",
       "      <th>pct_counts_in_top_500_genes</th>\n",
       "      <th>...</th>\n",
       "      <th>LogProb</th>\n",
       "      <th>PValue</th>\n",
       "      <th>Limited</th>\n",
       "      <th>FDR</th>\n",
       "      <th>empty</th>\n",
       "      <th>barcode</th>\n",
       "      <th>real_max_filter</th>\n",
       "      <th>double_thresh_mean_li</th>\n",
       "      <th>double_thresh_mean_mean</th>\n",
       "      <th>thresh_mean_filter</th>\n",
       "    </tr>\n",
       "  </thead>\n",
       "  <tbody>\n",
       "    <tr>\n",
       "      <td>0</td>\n",
       "      <td>1</td>\n",
       "      <td>25.054054</td>\n",
       "      <td>3549</td>\n",
       "      <td>8.174703</td>\n",
       "      <td>11439.0</td>\n",
       "      <td>9.344872</td>\n",
       "      <td>23.612204</td>\n",
       "      <td>31.340152</td>\n",
       "      <td>40.711601</td>\n",
       "      <td>56.324854</td>\n",
       "      <td>...</td>\n",
       "      <td>-17611.166666</td>\n",
       "      <td>0.0001</td>\n",
       "      <td>True</td>\n",
       "      <td>0.0</td>\n",
       "      <td>0</td>\n",
       "      <td>bcGJGH</td>\n",
       "      <td>1.0</td>\n",
       "      <td>1.0</td>\n",
       "      <td>1.0</td>\n",
       "      <td>1.0</td>\n",
       "    </tr>\n",
       "    <tr>\n",
       "      <td>1</td>\n",
       "      <td>1</td>\n",
       "      <td>28.162163</td>\n",
       "      <td>3786</td>\n",
       "      <td>8.239329</td>\n",
       "      <td>10901.0</td>\n",
       "      <td>9.296701</td>\n",
       "      <td>23.649206</td>\n",
       "      <td>30.611870</td>\n",
       "      <td>39.271626</td>\n",
       "      <td>54.031740</td>\n",
       "      <td>...</td>\n",
       "      <td>-18395.172730</td>\n",
       "      <td>0.0001</td>\n",
       "      <td>True</td>\n",
       "      <td>0.0</td>\n",
       "      <td>0</td>\n",
       "      <td>bcHHFW</td>\n",
       "      <td>1.0</td>\n",
       "      <td>1.0</td>\n",
       "      <td>1.0</td>\n",
       "      <td>1.0</td>\n",
       "    </tr>\n",
       "    <tr>\n",
       "      <td>2</td>\n",
       "      <td>1</td>\n",
       "      <td>36.243244</td>\n",
       "      <td>3101</td>\n",
       "      <td>8.039802</td>\n",
       "      <td>10441.0</td>\n",
       "      <td>9.253592</td>\n",
       "      <td>29.154296</td>\n",
       "      <td>36.366248</td>\n",
       "      <td>45.618236</td>\n",
       "      <td>61.066948</td>\n",
       "      <td>...</td>\n",
       "      <td>-15387.323197</td>\n",
       "      <td>0.0001</td>\n",
       "      <td>True</td>\n",
       "      <td>0.0</td>\n",
       "      <td>0</td>\n",
       "      <td>bcHMGZ</td>\n",
       "      <td>1.0</td>\n",
       "      <td>1.0</td>\n",
       "      <td>1.0</td>\n",
       "      <td>1.0</td>\n",
       "    </tr>\n",
       "    <tr>\n",
       "      <td>3</td>\n",
       "      <td>1</td>\n",
       "      <td>71.432434</td>\n",
       "      <td>3451</td>\n",
       "      <td>8.146709</td>\n",
       "      <td>10237.0</td>\n",
       "      <td>9.233862</td>\n",
       "      <td>35.957800</td>\n",
       "      <td>40.890886</td>\n",
       "      <td>47.592068</td>\n",
       "      <td>59.831982</td>\n",
       "      <td>...</td>\n",
       "      <td>-16400.994929</td>\n",
       "      <td>0.0001</td>\n",
       "      <td>True</td>\n",
       "      <td>0.0</td>\n",
       "      <td>0</td>\n",
       "      <td>bcFQMC</td>\n",
       "      <td>1.0</td>\n",
       "      <td>1.0</td>\n",
       "      <td>1.0</td>\n",
       "      <td>1.0</td>\n",
       "    </tr>\n",
       "    <tr>\n",
       "      <td>4</td>\n",
       "      <td>1</td>\n",
       "      <td>12.864865</td>\n",
       "      <td>1682</td>\n",
       "      <td>7.428333</td>\n",
       "      <td>9881.0</td>\n",
       "      <td>9.198470</td>\n",
       "      <td>67.857504</td>\n",
       "      <td>72.168809</td>\n",
       "      <td>77.279628</td>\n",
       "      <td>85.801032</td>\n",
       "      <td>...</td>\n",
       "      <td>-9434.997566</td>\n",
       "      <td>0.0001</td>\n",
       "      <td>True</td>\n",
       "      <td>0.0</td>\n",
       "      <td>0</td>\n",
       "      <td>bcEFAX</td>\n",
       "      <td>1.0</td>\n",
       "      <td>1.0</td>\n",
       "      <td>1.0</td>\n",
       "      <td>1.0</td>\n",
       "    </tr>\n",
       "    <tr>\n",
       "      <td>...</td>\n",
       "      <td>...</td>\n",
       "      <td>...</td>\n",
       "      <td>...</td>\n",
       "      <td>...</td>\n",
       "      <td>...</td>\n",
       "      <td>...</td>\n",
       "      <td>...</td>\n",
       "      <td>...</td>\n",
       "      <td>...</td>\n",
       "      <td>...</td>\n",
       "      <td>...</td>\n",
       "      <td>...</td>\n",
       "      <td>...</td>\n",
       "      <td>...</td>\n",
       "      <td>...</td>\n",
       "      <td>...</td>\n",
       "      <td>...</td>\n",
       "      <td>...</td>\n",
       "      <td>...</td>\n",
       "      <td>...</td>\n",
       "      <td>...</td>\n",
       "    </tr>\n",
       "    <tr>\n",
       "      <td>14184</td>\n",
       "      <td>0</td>\n",
       "      <td>2.486486</td>\n",
       "      <td>46</td>\n",
       "      <td>3.850148</td>\n",
       "      <td>133.0</td>\n",
       "      <td>4.897840</td>\n",
       "      <td>100.000000</td>\n",
       "      <td>100.000000</td>\n",
       "      <td>100.000000</td>\n",
       "      <td>100.000000</td>\n",
       "      <td>...</td>\n",
       "      <td>NaN</td>\n",
       "      <td>NaN</td>\n",
       "      <td>NaN</td>\n",
       "      <td>NaN</td>\n",
       "      <td>1</td>\n",
       "      <td>bcEGMG</td>\n",
       "      <td>0.0</td>\n",
       "      <td>0.0</td>\n",
       "      <td>0.0</td>\n",
       "      <td>0.0</td>\n",
       "    </tr>\n",
       "    <tr>\n",
       "      <td>14185</td>\n",
       "      <td>0</td>\n",
       "      <td>2.513514</td>\n",
       "      <td>46</td>\n",
       "      <td>3.850148</td>\n",
       "      <td>132.0</td>\n",
       "      <td>4.890349</td>\n",
       "      <td>100.000000</td>\n",
       "      <td>100.000000</td>\n",
       "      <td>100.000000</td>\n",
       "      <td>100.000000</td>\n",
       "      <td>...</td>\n",
       "      <td>NaN</td>\n",
       "      <td>NaN</td>\n",
       "      <td>NaN</td>\n",
       "      <td>NaN</td>\n",
       "      <td>1</td>\n",
       "      <td>bcEKGU</td>\n",
       "      <td>0.0</td>\n",
       "      <td>0.0</td>\n",
       "      <td>0.0</td>\n",
       "      <td>0.0</td>\n",
       "    </tr>\n",
       "    <tr>\n",
       "      <td>14186</td>\n",
       "      <td>0</td>\n",
       "      <td>1.594595</td>\n",
       "      <td>75</td>\n",
       "      <td>4.330733</td>\n",
       "      <td>130.0</td>\n",
       "      <td>4.875197</td>\n",
       "      <td>80.769231</td>\n",
       "      <td>100.000000</td>\n",
       "      <td>100.000000</td>\n",
       "      <td>100.000000</td>\n",
       "      <td>...</td>\n",
       "      <td>NaN</td>\n",
       "      <td>NaN</td>\n",
       "      <td>NaN</td>\n",
       "      <td>NaN</td>\n",
       "      <td>1</td>\n",
       "      <td>bcDARH</td>\n",
       "      <td>0.0</td>\n",
       "      <td>0.0</td>\n",
       "      <td>0.0</td>\n",
       "      <td>0.0</td>\n",
       "    </tr>\n",
       "    <tr>\n",
       "      <td>14187</td>\n",
       "      <td>0</td>\n",
       "      <td>2.081081</td>\n",
       "      <td>51</td>\n",
       "      <td>3.951244</td>\n",
       "      <td>117.0</td>\n",
       "      <td>4.770685</td>\n",
       "      <td>99.145299</td>\n",
       "      <td>100.000000</td>\n",
       "      <td>100.000000</td>\n",
       "      <td>100.000000</td>\n",
       "      <td>...</td>\n",
       "      <td>NaN</td>\n",
       "      <td>NaN</td>\n",
       "      <td>NaN</td>\n",
       "      <td>NaN</td>\n",
       "      <td>1</td>\n",
       "      <td>bcHPUJ</td>\n",
       "      <td>0.0</td>\n",
       "      <td>0.0</td>\n",
       "      <td>0.0</td>\n",
       "      <td>0.0</td>\n",
       "    </tr>\n",
       "    <tr>\n",
       "      <td>14188</td>\n",
       "      <td>0</td>\n",
       "      <td>0.675676</td>\n",
       "      <td>65</td>\n",
       "      <td>4.189655</td>\n",
       "      <td>104.0</td>\n",
       "      <td>4.653960</td>\n",
       "      <td>85.576923</td>\n",
       "      <td>100.000000</td>\n",
       "      <td>100.000000</td>\n",
       "      <td>100.000000</td>\n",
       "      <td>...</td>\n",
       "      <td>NaN</td>\n",
       "      <td>NaN</td>\n",
       "      <td>NaN</td>\n",
       "      <td>NaN</td>\n",
       "      <td>1</td>\n",
       "      <td>bcHJQA</td>\n",
       "      <td>0.0</td>\n",
       "      <td>0.0</td>\n",
       "      <td>0.0</td>\n",
       "      <td>0.0</td>\n",
       "    </tr>\n",
       "  </tbody>\n",
       "</table>\n",
       "<p>14189 rows × 25 columns</p>\n",
       "</div>"
      ],
      "text/plain": [
       "       ken_filter  mean_mito  n_genes_by_counts  log1p_n_genes_by_counts  \\\n",
       "0               1  25.054054               3549                 8.174703   \n",
       "1               1  28.162163               3786                 8.239329   \n",
       "2               1  36.243244               3101                 8.039802   \n",
       "3               1  71.432434               3451                 8.146709   \n",
       "4               1  12.864865               1682                 7.428333   \n",
       "...           ...        ...                ...                      ...   \n",
       "14184           0   2.486486                 46                 3.850148   \n",
       "14185           0   2.513514                 46                 3.850148   \n",
       "14186           0   1.594595                 75                 4.330733   \n",
       "14187           0   2.081081                 51                 3.951244   \n",
       "14188           0   0.675676                 65                 4.189655   \n",
       "\n",
       "       total_counts  log1p_total_counts  pct_counts_in_top_50_genes  \\\n",
       "0           11439.0            9.344872                   23.612204   \n",
       "1           10901.0            9.296701                   23.649206   \n",
       "2           10441.0            9.253592                   29.154296   \n",
       "3           10237.0            9.233862                   35.957800   \n",
       "4            9881.0            9.198470                   67.857504   \n",
       "...             ...                 ...                         ...   \n",
       "14184         133.0            4.897840                  100.000000   \n",
       "14185         132.0            4.890349                  100.000000   \n",
       "14186         130.0            4.875197                   80.769231   \n",
       "14187         117.0            4.770685                   99.145299   \n",
       "14188         104.0            4.653960                   85.576923   \n",
       "\n",
       "       pct_counts_in_top_100_genes  pct_counts_in_top_200_genes  \\\n",
       "0                        31.340152                    40.711601   \n",
       "1                        30.611870                    39.271626   \n",
       "2                        36.366248                    45.618236   \n",
       "3                        40.890886                    47.592068   \n",
       "4                        72.168809                    77.279628   \n",
       "...                            ...                          ...   \n",
       "14184                   100.000000                   100.000000   \n",
       "14185                   100.000000                   100.000000   \n",
       "14186                   100.000000                   100.000000   \n",
       "14187                   100.000000                   100.000000   \n",
       "14188                   100.000000                   100.000000   \n",
       "\n",
       "       pct_counts_in_top_500_genes  ...       LogProb  PValue  Limited  FDR  \\\n",
       "0                        56.324854  ... -17611.166666  0.0001     True  0.0   \n",
       "1                        54.031740  ... -18395.172730  0.0001     True  0.0   \n",
       "2                        61.066948  ... -15387.323197  0.0001     True  0.0   \n",
       "3                        59.831982  ... -16400.994929  0.0001     True  0.0   \n",
       "4                        85.801032  ...  -9434.997566  0.0001     True  0.0   \n",
       "...                            ...  ...           ...     ...      ...  ...   \n",
       "14184                   100.000000  ...           NaN     NaN      NaN  NaN   \n",
       "14185                   100.000000  ...           NaN     NaN      NaN  NaN   \n",
       "14186                   100.000000  ...           NaN     NaN      NaN  NaN   \n",
       "14187                   100.000000  ...           NaN     NaN      NaN  NaN   \n",
       "14188                   100.000000  ...           NaN     NaN      NaN  NaN   \n",
       "\n",
       "       empty  barcode  real_max_filter double_thresh_mean_li  \\\n",
       "0          0   bcGJGH              1.0                   1.0   \n",
       "1          0   bcHHFW              1.0                   1.0   \n",
       "2          0   bcHMGZ              1.0                   1.0   \n",
       "3          0   bcFQMC              1.0                   1.0   \n",
       "4          0   bcEFAX              1.0                   1.0   \n",
       "...      ...      ...              ...                   ...   \n",
       "14184      1   bcEGMG              0.0                   0.0   \n",
       "14185      1   bcEKGU              0.0                   0.0   \n",
       "14186      1   bcDARH              0.0                   0.0   \n",
       "14187      1   bcHPUJ              0.0                   0.0   \n",
       "14188      1   bcHJQA              0.0                   0.0   \n",
       "\n",
       "       double_thresh_mean_mean  thresh_mean_filter  \n",
       "0                          1.0                 1.0  \n",
       "1                          1.0                 1.0  \n",
       "2                          1.0                 1.0  \n",
       "3                          1.0                 1.0  \n",
       "4                          1.0                 1.0  \n",
       "...                        ...                 ...  \n",
       "14184                      0.0                 0.0  \n",
       "14185                      0.0                 0.0  \n",
       "14186                      0.0                 0.0  \n",
       "14187                      0.0                 0.0  \n",
       "14188                      0.0                 0.0  \n",
       "\n",
       "[14189 rows x 25 columns]"
      ]
     },
     "execution_count": 113,
     "metadata": {},
     "output_type": "execute_result"
    }
   ],
   "source": [
    "s1.obs"
   ]
  },
  {
   "cell_type": "code",
   "execution_count": 48,
   "metadata": {},
   "outputs": [],
   "source": [
    "# A vs. B is equal to the elements present in A but not in B\n",
    "# B vs. A is equal to the elements present in B but not in A"
   ]
  },
  {
   "cell_type": "code",
   "execution_count": 49,
   "metadata": {},
   "outputs": [],
   "source": [
    "emptyDropsKenSet = len(set(emptyDropsIndex).difference(set(kenIndex))) # where emptyDrops_index is larger than ken_index\n",
    "\n",
    "realMaxKenSet = len(set(realMaxIndex).difference(set(kenIndex))) # where real_max_index is larger than ken_index\n",
    "realMaxEmptyDropsSet = len(set(realMaxIndex).difference(set(emptyDropsIndex))) # where real_max_index is larger than emptyDrops_index\n",
    "\n",
    "dtMeanLiKenSet = len(set(dtMeanLiIndex).difference(set(kenIndex)))\n",
    "dtMeanLiEmptyDropsSet = len(set(dtMeanLiIndex).difference(set(emptyDropsIndex)))\n",
    "\n",
    "dtMeanMeanKenSet = len(set(dtMeanMeanIndex).difference(set(kenIndex)))\n",
    "dtMeanMeanEmptyDropsSet = len(set(dtMeanMeanIndex).difference(set(emptyDropsIndex)))\n",
    "\n",
    "threshMeanKenSet = len(set(threshMeanIndex).difference(set(kenIndex)))\n",
    "threshMeanEmptyDropsSet = len(set(threshMeanIndex).difference(set(emptyDropsIndex)))"
   ]
  },
  {
   "cell_type": "code",
   "execution_count": 50,
   "metadata": {},
   "outputs": [],
   "source": [
    "kenEmptyDropsSet = len(set(kenIndex).difference(set(emptyDropsIndex))) # where ken_index is larger than emptyDrops_index\n",
    "\n",
    "kenRealMaxSet = len(set(kenIndex).difference(set(realMaxIndex))) # where ken_index is larger than real_max\n",
    "emptyDropsRealMaxSet = len(set(emptyDropsIndex).difference(set(realMaxIndex))) # where emptyDrops_index is larger than real_max_index\n",
    "\n",
    "kenDtMeanLiSet = len(set(kenIndex).difference(set(dtMeanLiIndex)))\n",
    "emptyDropsDtMeanLiSet = len(set(emptyDropsIndex).difference(set(dtMeanLiIndex)))\n",
    "\n",
    "kenDtMeanMeanSet = len(set(kenIndex).difference(set(dtMeanMeanIndex)))\n",
    "emptyDropsDtMeanMeanSet = len(set(emptyDropsIndex).difference(set(dtMeanMeanIndex)))\n",
    "\n",
    "kenThreshMeanSet = len(set(kenIndex).difference(set(threshMeanIndex)))\n",
    "emptyDropsThreshMeanSet = len(set(emptyDropsIndex).difference(set(threshMeanIndex)))"
   ]
  },
  {
   "cell_type": "code",
   "execution_count": 51,
   "metadata": {},
   "outputs": [
    {
     "name": "stdout",
     "output_type": "stream",
     "text": [
      "emptyDrops vs. ken:  1\n",
      "real max vs. ken:  8\n",
      "real max vs. emptyDrops:  2462\n",
      "double thresh mean li vs. ken:  0\n",
      "double thresh mean li vs. emptyDrops:  428\n",
      "double thresh mean mean vs. ken:  0\n",
      "double thresh mean mean vs. emptyDrops:  428\n",
      "thresh mean vs. ken:  13\n",
      "thresh mean vs. emptyDrops:  3214\n"
     ]
    }
   ],
   "source": [
    "# overlap for empty cells\n",
    "print(\"emptyDrops vs. ken: \", emptyDropsKenSet)\n",
    "\n",
    "print(\"real max vs. ken: \", realMaxKenSet)\n",
    "print(\"real max vs. emptyDrops: \", realMaxEmptyDropsSet)\n",
    "\n",
    "print(\"double thresh mean li vs. ken: \", dtMeanLiKenSet)\n",
    "print(\"double thresh mean li vs. emptyDrops: \", dtMeanMeanEmptyDropsSet)\n",
    "\n",
    "print(\"double thresh mean mean vs. ken: \", dtMeanMeanKenSet)\n",
    "print(\"double thresh mean mean vs. emptyDrops: \", dtMeanMeanEmptyDropsSet)\n",
    "\n",
    "print(\"thresh mean vs. ken: \", threshMeanKenSet)\n",
    "print(\"thresh mean vs. emptyDrops: \", threshMeanEmptyDropsSet)"
   ]
  },
  {
   "cell_type": "code",
   "execution_count": 52,
   "metadata": {},
   "outputs": [
    {
     "name": "stdout",
     "output_type": "stream",
     "text": [
      "ken vs. emptyDrops:  5739\n",
      "ken vs. real max:  3284\n",
      "emptyDrops vs. real max:  0\n",
      "ken vs. double thresh mean li:  6746\n",
      "emptyDrops vs. double thresh mean li:  1242\n",
      "ken vs. double thresh mean mean:  6417\n",
      "emptyDrops vs. double thresh mean mean:  1107\n",
      "ken vs. thresh mean:  2537\n",
      "emptyDrops vs. thresh mean:  0\n"
     ]
    }
   ],
   "source": [
    "print(\"ken vs. emptyDrops: \", kenEmptyDropsSet)\n",
    "\n",
    "print(\"ken vs. real max: \", kenRealMaxSet)\n",
    "print(\"emptyDrops vs. real max: \", emptyDropsRealMaxSet)\n",
    "\n",
    "print(\"ken vs. double thresh mean li: \", kenDtMeanLiSet)\n",
    "print(\"emptyDrops vs. double thresh mean li: \", emptyDropsDtMeanLiSet)\n",
    "\n",
    "print(\"ken vs. double thresh mean mean: \", kenDtMeanMeanSet)\n",
    "print(\"emptyDrops vs. double thresh mean mean: \", emptyDropsDtMeanMeanSet)\n",
    "\n",
    "print(\"ken vs. thresh mean: \", kenThreshMeanSet)\n",
    "print(\"emptyDrops vs. thresh mean: \", emptyDropsThreshMeanSet)"
   ]
  },
  {
   "cell_type": "code",
   "execution_count": 53,
   "metadata": {},
   "outputs": [],
   "source": [
    "# Histograms after filtering"
   ]
  },
  {
   "cell_type": "code",
   "execution_count": 457,
   "metadata": {},
   "outputs": [],
   "source": [
    "s1.obs.index = s1.obs.barcode"
   ]
  },
  {
   "cell_type": "code",
   "execution_count": 458,
   "metadata": {},
   "outputs": [],
   "source": [
    "s2 = s1.obs.copy()"
   ]
  },
  {
   "cell_type": "code",
   "execution_count": 459,
   "metadata": {},
   "outputs": [],
   "source": [
    "def emptyLog1pTotalCounts(dataframe, filterMethod, whichColor):\n",
    "    if (filterMethod == \"empty\"):\n",
    "        whichEmpty = 0\n",
    "    else:\n",
    "        whichEmpty = 1\n",
    "    log1pTotalCountsFilter = np.where(dataframe[filterMethod] == whichEmpty)[0]\n",
    "    subsetLog1pTotalCounts = dataframe.iloc[log1pTotalCountsFilter][\"log1p_total_counts\"]\n",
    "    \n",
    "    _ = plt.hist(subsetLog1pTotalCounts, bins = 50, color = whichColor)\n",
    "    plt.axvline(realMax[0], color = 'k')\n",
    "    return (log1pTotalCountsFilter, dataframe[filterMethod] == whichEmpty)"
   ]
  },
  {
   "cell_type": "code",
   "execution_count": 460,
   "metadata": {},
   "outputs": [
    {
     "data": {
      "image/png": "[encoded data removed]",
      "text/plain": [
       "<Figure size 320x320 with 1 Axes>"
      ]
     },
     "metadata": {
      "image/png": {
       "height": 287,
       "width": 308
      },
      "needs_background": "light"
     },
     "output_type": "display_data"
    }
   ],
   "source": [
    "realMaxDataset, realMaxBoolVector = emptyLog1pTotalCounts(s2, \"real_max_filter\", 'g')\n",
    "dtMeanLiDataset, dtMeanLiBoolVector = emptyLog1pTotalCounts(s2, \"double_thresh_mean_li\", 'k')\n",
    "dtMeanMeanDataset, dtMeanMeanBoolVector = emptyLog1pTotalCounts(s2, \"double_thresh_mean_mean\", 'm')\n",
    "emptyDropsDataset, emptyDropsBoolVector = emptyLog1pTotalCounts(s2, \"empty\", 'r')\n",
    "threshMeanDataset, threshMeanBoolVector = emptyLog1pTotalCounts(s2, \"thresh_mean_filter\", 'b')\n",
    "kenFilterDataset, kenFilterBoolVector = emptyLog1pTotalCounts(s2, \"ken_filter\", 'y')"
   ]
  },
  {
   "cell_type": "code",
   "execution_count": 461,
   "metadata": {},
   "outputs": [
    {
     "name": "stderr",
     "output_type": "stream",
     "text": [
      "... storing 'Limited' as categorical\n"
     ]
    }
   ],
   "source": [
    "s1.write_h5ad(\"filtered-3777-S2.h5ad\", compression = \"gzip\")"
   ]
  },
  {
   "cell_type": "code",
   "execution_count": 462,
   "metadata": {},
   "outputs": [],
   "source": [
    "#s3 = s1[realMaxDataset].copy()"
   ]
  },
  {
   "cell_type": "code",
   "execution_count": 318,
   "metadata": {},
   "outputs": [],
   "source": [
    "#s3.write_h5ad(\"realMaxDataset-2771-S3.h5ad\", compression = \"gzip\")"
   ]
  }
 ],
 "metadata": {
  "kernelspec": {
   "display_name": "Python 3",
   "language": "python",
   "name": "python3"
  },
  "language_info": {
   "codemirror_mode": {
    "name": "ipython",
    "version": 3
   },
   "file_extension": ".py",
   "mimetype": "text/x-python",
   "name": "python",
   "nbconvert_exporter": "python",
   "pygments_lexer": "ipython3",
   "version": "3.7.5"
  }
 },
 "nbformat": 4,
 "nbformat_minor": 4
}
