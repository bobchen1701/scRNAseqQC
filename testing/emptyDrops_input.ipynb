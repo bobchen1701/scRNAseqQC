{
 "cells": [
  {
   "cell_type": "code",
   "execution_count": 1,
   "metadata": {},
   "outputs": [],
   "source": [
    "rm(list=ls()) # clear workspace\n",
    "suppressPackageStartupMessages(require(argparse))\n",
    "suppressPackageStartupMessages(require(tidyverse))\n",
    "suppressPackageStartupMessages(require(DropletUtils))"
   ]
  },
  {
   "cell_type": "code",
   "execution_count": 2,
   "metadata": {},
   "outputs": [],
   "source": [
    "run.emptyDrops <- function(m, lower, FDR.thresh=0.01, ...){\n",
    "  # wrapper for emptyDrops function\n",
    "  #   m = counts dataframe in genes x cells format\n",
    "  #   lower = number of total UMI counts below which all barcodes are considered empty droplets\n",
    "  #   FDR.thresh = threshold above which barcodes are labeled as empty droplets (default 0.01)\n",
    "  #   ... = additional args to pass to emptyDrops() function\n",
    "  start.time <- Sys.time()\n",
    "  \n",
    "  result <- emptyDrops(m = m, lower = lower, ...)\n",
    "  \n",
    "  out <- data.frame(result@listData) %>%\n",
    "    mutate(empty = as.numeric(FDR > FDR.thresh)) %>%\n",
    "    mutate(empty = replace_na(empty, 1)) %>%\n",
    "    mutate(barcode = result@rownames)\n",
    "  \n",
    "  print(Sys.time() - start.time)\n",
    "  return(out)\n",
    "}"
   ]
  },
  {
   "cell_type": "code",
   "execution_count": 3,
   "metadata": {},
   "outputs": [],
   "source": [
    "read.counts <- function(path, transpose=F, row.names=NULL){\n",
    "  start.time <- Sys.time()\n",
    "  if(str_detect(string = path, pattern = '.csv')){\n",
    "    counts <- read.csv(path, row.names=row.names)\n",
    "  }else if(str_detect(string = path, pattern = '.tsv')){\n",
    "    counts <- read.csv(path, sep = '\\t', row.names=row.names)\n",
    "  }\n",
    "  \n",
    "  if(transpose){\n",
    "    counts <- t(counts)\n",
    "  }\n",
    "  print(Sys.time() - start.time) # print file reading time\n",
    "  return(counts)\n",
    "}"
   ]
  },
  {
   "cell_type": "code",
   "execution_count": 4,
   "metadata": {},
   "outputs": [
    {
     "name": "stderr",
     "output_type": "stream",
     "text": [
      "\n",
      "Attaching package: ‘hdf5r’\n",
      "\n",
      "The following object is masked from ‘package:SummarizedExperiment’:\n",
      "\n",
      "    values\n",
      "\n",
      "The following object is masked from ‘package:GenomicRanges’:\n",
      "\n",
      "    values\n",
      "\n",
      "The following object is masked from ‘package:IRanges’:\n",
      "\n",
      "    values\n",
      "\n",
      "The following object is masked from ‘package:S4Vectors’:\n",
      "\n",
      "    values\n",
      "\n",
      "The following object is masked from ‘package:purrr’:\n",
      "\n",
      "    flatten_df\n",
      "\n"
     ]
    }
   ],
   "source": [
    "#library(Seurat)\n",
    "library(hdf5r)"
   ]
  },
  {
   "cell_type": "code",
   "execution_count": 5,
   "metadata": {},
   "outputs": [],
   "source": [
    "#sampleS3 <- read.counts('data/2771-AS-3-ACAGTG_S3.h5ad', transpose=T)"
   ]
  },
  {
   "cell_type": "code",
   "execution_count": 6,
   "metadata": {},
   "outputs": [],
   "source": [
    "#sampleS3 <- ReadH5AD('data/2771-AS-3-ACAGTG_S3.h5ad')"
   ]
  },
  {
   "cell_type": "code",
   "execution_count": 7,
   "metadata": {},
   "outputs": [],
   "source": [
    "#library(tidyverse)"
   ]
  },
  {
   "cell_type": "code",
   "execution_count": 8,
   "metadata": {},
   "outputs": [],
   "source": [
    "#read.table(\"NonScanpyVersion//Example_dataset.csv.gz\", row.names = 1, sep = \",\", header = T) -> d"
   ]
  },
  {
   "cell_type": "code",
   "execution_count": 9,
   "metadata": {},
   "outputs": [],
   "source": [
    "#output <- run.emptyDrops(sampleS3, lower = 500)"
   ]
  },
  {
   "cell_type": "code",
   "execution_count": 18,
   "metadata": {},
   "outputs": [],
   "source": [
    "data_in <- h5file(\"../data/colon_10x.h5ad\")\n",
    "data_in_raw <- data_in[['X']][,] #raw count data, make sure this is raw counts/ints"
   ]
  },
  {
   "cell_type": "code",
   "execution_count": 19,
   "metadata": {},
   "outputs": [],
   "source": [
    "data_in_obs = data_in[['obs']][] #load obs\n",
    "data_in_var = data_in[['var']][] #load vars\n",
    "rownames(data_in_raw) = data_in_var$index #set labels\n",
    "colnames(data_in_raw) = data_in_obs$index #set labels"
   ]
  },
  {
   "cell_type": "code",
   "execution_count": 20,
   "metadata": {},
   "outputs": [],
   "source": [
    "#data_in_seurat = CreateSeuratObject(data_in_raw,project = 'seurat_obj_name') #create seurat object\n",
    "#data_in_seurat$batch = data_in_obs$batch #set further labels from h5ad annotations if necessary"
   ]
  },
  {
   "cell_type": "code",
   "execution_count": 21,
   "metadata": {},
   "outputs": [],
   "source": [
    "#data_in_seurat@assays$RNA@counts"
   ]
  },
  {
   "cell_type": "code",
   "execution_count": 22,
   "metadata": {},
   "outputs": [
    {
     "data": {
      "text/html": [
       "<ol class=list-inline>\n",
       "\t<li>27998</li>\n",
       "\t<li>5000</li>\n",
       "</ol>\n"
      ],
      "text/latex": [
       "\\begin{enumerate*}\n",
       "\\item 27998\n",
       "\\item 5000\n",
       "\\end{enumerate*}\n"
      ],
      "text/markdown": [
       "1. 27998\n",
       "2. 5000\n",
       "\n",
       "\n"
      ],
      "text/plain": [
       "[1] 27998  5000"
      ]
     },
     "metadata": {},
     "output_type": "display_data"
    }
   ],
   "source": [
    "dim(data_in_raw)"
   ]
  },
  {
   "cell_type": "code",
   "execution_count": 23,
   "metadata": {},
   "outputs": [
    {
     "ename": "ERROR",
     "evalue": "Error in testEmptyDrops(m, lower = lower, ...): no counts available to estimate the ambient profile\n",
     "output_type": "error",
     "traceback": [
      "Error in testEmptyDrops(m, lower = lower, ...): no counts available to estimate the ambient profile\nTraceback:\n",
      "1. run.emptyDrops(data_in_raw, lower = 400)",
      "2. emptyDrops(m = m, lower = lower, ...)   # at line 9 of file <text>",
      "3. testEmptyDrops(m, lower = lower, ...)",
      "4. stop(\"no counts available to estimate the ambient profile\")"
     ]
    }
   ],
   "source": [
    "emptyDrops_thresh_output <- run.emptyDrops(data_in_raw, lower = 400)"
   ]
  },
  {
   "cell_type": "code",
   "execution_count": null,
   "metadata": {},
   "outputs": [],
   "source": [
    "emptyDrops_thresh_output"
   ]
  },
  {
   "cell_type": "code",
   "execution_count": 17,
   "metadata": {},
   "outputs": [
    {
     "ename": "ERROR",
     "evalue": "Error in eval(expr, envir, enclos): object 'emptyDrops_thresh_output' not found\n",
     "output_type": "error",
     "traceback": [
      "Error in eval(expr, envir, enclos): object 'emptyDrops_thresh_output' not found\nTraceback:\n"
     ]
    }
   ],
   "source": [
    "sum(emptyDrops_thresh_output$empty) # total number of empty drops based on emptyDrops threshold"
   ]
  },
  {
   "cell_type": "code",
   "execution_count": 18,
   "metadata": {},
   "outputs": [],
   "source": [
    "write.csv(emptyDrops_thresh_output,\"testing/emptyDrops-thresh-colon10x.csv\", row.names = FALSE)"
   ]
  },
  {
   "cell_type": "code",
   "execution_count": null,
   "metadata": {},
   "outputs": [],
   "source": []
  },
  {
   "cell_type": "code",
   "execution_count": null,
   "metadata": {},
   "outputs": [],
   "source": []
  }
 ],
 "metadata": {
  "kernelspec": {
   "display_name": "R",
   "language": "R",
   "name": "ir"
  },
  "language_info": {
   "codemirror_mode": "r",
   "file_extension": ".r",
   "mimetype": "text/x-r-source",
   "name": "R",
   "pygments_lexer": "r",
   "version": "3.6.1"
  }
 },
 "nbformat": 4,
 "nbformat_minor": 4
}
