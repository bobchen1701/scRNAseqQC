{
 "cells": [
  {
   "cell_type": "code",
   "execution_count": null,
   "metadata": {},
   "outputs": [],
   "source": [
    "rm(list=ls()) # clear workspace\n",
    "suppressPackageStartupMessages(require(argparse))\n",
    "suppressPackageStartupMessages(require(tidyverse))\n",
    "suppressPackageStartupMessages(require(DropletUtils))"
   ]
  },
  {
   "cell_type": "code",
   "execution_count": 2,
   "metadata": {},
   "outputs": [],
   "source": [
    "run.emptyDrops <- function(m, lower, FDR.thresh=0.01, ...){\n",
    "  # wrapper for emptyDrops function\n",
    "  #   m = counts dataframe in genes x cells format\n",
    "  #   lower = number of total UMI counts below which all barcodes are considered empty droplets\n",
    "  #   FDR.thresh = threshold above which barcodes are labeled as empty droplets (default 0.01)\n",
    "  #   ... = additional args to pass to emptyDrops() function\n",
    "  start.time <- Sys.time()\n",
    "  \n",
    "  result <- emptyDrops(m = m, lower = lower, ...)\n",
    "  \n",
    "  out <- data.frame(result@listData) %>%\n",
    "    mutate(empty = as.numeric(FDR > FDR.thresh)) %>%\n",
    "    mutate(empty = replace_na(empty, 1)) %>%\n",
    "    mutate(barcode = result@rownames)\n",
    "  \n",
    "  print(Sys.time() - start.time)\n",
    "  return(out)\n",
    "}"
   ]
  },
  {
   "cell_type": "code",
   "execution_count": 3,
   "metadata": {},
   "outputs": [],
   "source": [
    "read.counts <- function(path, transpose=F, row.names=NULL){\n",
    "  start.time <- Sys.time()\n",
    "  if(str_detect(string = path, pattern = '.csv')){\n",
    "    counts <- read.csv(path, row.names=row.names)\n",
    "  }else if(str_detect(string = path, pattern = '.tsv')){\n",
    "    counts <- read.csv(path, sep = '\\t', row.names=row.names)\n",
    "  }\n",
    "  \n",
    "  if(transpose){\n",
    "    counts <- t(counts)\n",
    "  }\n",
    "  print(Sys.time() - start.time) # print file reading time\n",
    "  return(counts)\n",
    "}"
   ]
  },
  {
   "cell_type": "code",
   "execution_count": 4,
   "metadata": {
    "collapsed": true,
    "jupyter": {
     "outputs_hidden": true
    }
   },
   "outputs": [
    {
     "name": "stderr",
     "output_type": "stream",
     "text": [
      "\n",
      "Attaching package: ‘hdf5r’\n",
      "\n",
      "The following object is masked from ‘package:SummarizedExperiment’:\n",
      "\n",
      "    values\n",
      "\n",
      "The following object is masked from ‘package:GenomicRanges’:\n",
      "\n",
      "    values\n",
      "\n",
      "The following object is masked from ‘package:IRanges’:\n",
      "\n",
      "    values\n",
      "\n",
      "The following object is masked from ‘package:S4Vectors’:\n",
      "\n",
      "    values\n",
      "\n",
      "The following object is masked from ‘package:purrr’:\n",
      "\n",
      "    flatten_df\n",
      "\n"
     ]
    }
   ],
   "source": [
    "#library(Seurat)\n",
    "library(hdf5r)"
   ]
  },
  {
   "cell_type": "code",
   "execution_count": 5,
   "metadata": {},
   "outputs": [],
   "source": [
    "#sampleS3 <- read.counts('data/2771-AS-3-ACAGTG_S3.h5ad', transpose=T)"
   ]
  },
  {
   "cell_type": "code",
   "execution_count": 6,
   "metadata": {},
   "outputs": [],
   "source": [
    "#sampleS3 <- ReadH5AD('data/2771-AS-3-ACAGTG_S3.h5ad')"
   ]
  },
  {
   "cell_type": "code",
   "execution_count": 7,
   "metadata": {},
   "outputs": [],
   "source": [
    "#library(tidyverse)"
   ]
  },
  {
   "cell_type": "code",
   "execution_count": 8,
   "metadata": {},
   "outputs": [],
   "source": [
    "#read.table(\"NonScanpyVersion//Example_dataset.csv.gz\", row.names = 1, sep = \",\", header = T) -> d"
   ]
  },
  {
   "cell_type": "code",
   "execution_count": 9,
   "metadata": {},
   "outputs": [],
   "source": [
    "#output <- run.emptyDrops(sampleS3, lower = 500)"
   ]
  },
  {
   "cell_type": "code",
   "execution_count": 10,
   "metadata": {},
   "outputs": [],
   "source": [
    "data_in <- h5file(\"data/2771-AS-3-ACAGTG_S3.h5ad\")\n",
    "data_in_raw <- data_in[['X']][,] #raw count data, make sure this is raw counts/ints"
   ]
  },
  {
   "cell_type": "code",
   "execution_count": 11,
   "metadata": {},
   "outputs": [],
   "source": [
    "data_in_obs = data_in[['obs']][] #load obs\n",
    "data_in_var = data_in[['var']][] #load vars\n",
    "rownames(data_in_raw) = data_in_var$index #set labels\n",
    "colnames(data_in_raw) = data_in_obs$index #set labels"
   ]
  },
  {
   "cell_type": "code",
   "execution_count": 12,
   "metadata": {},
   "outputs": [],
   "source": [
    "#data_in_seurat = CreateSeuratObject(data_in_raw,project = 'seurat_obj_name') #create seurat object\n",
    "#data_in_seurat$batch = data_in_obs$batch #set further labels from h5ad annotations if necessary"
   ]
  },
  {
   "cell_type": "code",
   "execution_count": 13,
   "metadata": {},
   "outputs": [],
   "source": [
    "#data_in_seurat@assays$RNA@counts"
   ]
  },
  {
   "cell_type": "code",
   "execution_count": 14,
   "metadata": {},
   "outputs": [
    {
     "data": {
      "text/html": [
       "<ol class=list-inline>\n",
       "\t<li>38459</li>\n",
       "\t<li>14189</li>\n",
       "</ol>\n"
      ],
      "text/latex": [
       "\\begin{enumerate*}\n",
       "\\item 38459\n",
       "\\item 14189\n",
       "\\end{enumerate*}\n"
      ],
      "text/markdown": [
       "1. 38459\n",
       "2. 14189\n",
       "\n",
       "\n"
      ],
      "text/plain": [
       "[1] 38459 14189"
      ]
     },
     "metadata": {},
     "output_type": "display_data"
    }
   ],
   "source": [
    "dim(data_in_raw)"
   ]
  },
  {
   "cell_type": "code",
   "execution_count": 15,
   "metadata": {},
   "outputs": [
    {
     "name": "stdout",
     "output_type": "stream",
     "text": [
      "Time difference of 35.81419 secs\n"
     ]
    }
   ],
   "source": [
    "emptyDrops_thresh_output <- run.emptyDrops(data_in_raw, lower = 400)"
   ]
  },
  {
   "cell_type": "code",
   "execution_count": 16,
   "metadata": {},
   "outputs": [
    {
     "data": {
      "text/html": [
       "<table>\n",
       "<caption>A data.frame: 14189 × 7</caption>\n",
       "<thead>\n",
       "\t<tr><th scope=col>Total</th><th scope=col>LogProb</th><th scope=col>PValue</th><th scope=col>Limited</th><th scope=col>FDR</th><th scope=col>empty</th><th scope=col>barcode</th></tr>\n",
       "\t<tr><th scope=col>&lt;int&gt;</th><th scope=col>&lt;dbl&gt;</th><th scope=col>&lt;dbl&gt;</th><th scope=col>&lt;lgl&gt;</th><th scope=col>&lt;dbl&gt;</th><th scope=col>&lt;dbl&gt;</th><th scope=col>&lt;chr&gt;</th></tr>\n",
       "</thead>\n",
       "<tbody>\n",
       "\t<tr><td> 9881</td><td> -9434.998</td><td>9.999e-05</td><td>TRUE</td><td>0.000000000</td><td>0</td><td>bcEFAX</td></tr>\n",
       "\t<tr><td> 9825</td><td>-10575.418</td><td>9.999e-05</td><td>TRUE</td><td>0.000000000</td><td>0</td><td>bcFOEC</td></tr>\n",
       "\t<tr><td> 7338</td><td> -7746.110</td><td>9.999e-05</td><td>TRUE</td><td>0.000000000</td><td>0</td><td>bcIJXQ</td></tr>\n",
       "\t<tr><td>10237</td><td>-16400.995</td><td>9.999e-05</td><td>TRUE</td><td>0.000000000</td><td>0</td><td>bcFQMC</td></tr>\n",
       "\t<tr><td>10901</td><td>-18395.173</td><td>9.999e-05</td><td>TRUE</td><td>0.000000000</td><td>0</td><td>bcHHFW</td></tr>\n",
       "\t<tr><td>10441</td><td>-15387.323</td><td>9.999e-05</td><td>TRUE</td><td>0.000000000</td><td>0</td><td>bcHMGZ</td></tr>\n",
       "\t<tr><td>11439</td><td>-17611.167</td><td>9.999e-05</td><td>TRUE</td><td>0.000000000</td><td>0</td><td>bcGJGH</td></tr>\n",
       "\t<tr><td> 8706</td><td>-18505.348</td><td>9.999e-05</td><td>TRUE</td><td>0.000000000</td><td>0</td><td>bcGVOF</td></tr>\n",
       "\t<tr><td> 8392</td><td>-11779.140</td><td>9.999e-05</td><td>TRUE</td><td>0.000000000</td><td>0</td><td>bcGYED</td></tr>\n",
       "\t<tr><td> 8533</td><td> -7982.512</td><td>9.999e-05</td><td>TRUE</td><td>0.000000000</td><td>0</td><td>bcDVWX</td></tr>\n",
       "\t<tr><td> 7067</td><td> -7963.899</td><td>9.999e-05</td><td>TRUE</td><td>0.000000000</td><td>0</td><td>bcCZVN</td></tr>\n",
       "\t<tr><td> 5968</td><td> -3475.450</td><td>9.999e-05</td><td>TRUE</td><td>0.000000000</td><td>0</td><td>bcHCEF</td></tr>\n",
       "\t<tr><td> 4046</td><td> -3866.263</td><td>9.999e-05</td><td>TRUE</td><td>0.000000000</td><td>0</td><td>bcGRWV</td></tr>\n",
       "\t<tr><td> 7866</td><td> -4737.856</td><td>9.999e-05</td><td>TRUE</td><td>0.000000000</td><td>0</td><td>bcHXQW</td></tr>\n",
       "\t<tr><td> 7698</td><td> -9288.626</td><td>9.999e-05</td><td>TRUE</td><td>0.000000000</td><td>0</td><td>bcHXME</td></tr>\n",
       "\t<tr><td> 9082</td><td>-17275.373</td><td>9.999e-05</td><td>TRUE</td><td>0.000000000</td><td>0</td><td>bcHSON</td></tr>\n",
       "\t<tr><td> 3635</td><td> -2949.439</td><td>9.999e-05</td><td>TRUE</td><td>0.000206175</td><td>0</td><td>bcBOMZ</td></tr>\n",
       "\t<tr><td> 8869</td><td>-15124.142</td><td>9.999e-05</td><td>TRUE</td><td>0.000000000</td><td>0</td><td>bcDYNR</td></tr>\n",
       "\t<tr><td> 7249</td><td> -7848.666</td><td>9.999e-05</td><td>TRUE</td><td>0.000000000</td><td>0</td><td>bcCQAE</td></tr>\n",
       "\t<tr><td> 8324</td><td> -8906.769</td><td>9.999e-05</td><td>TRUE</td><td>0.000000000</td><td>0</td><td>bcIHVK</td></tr>\n",
       "\t<tr><td> 7871</td><td>-12030.430</td><td>9.999e-05</td><td>TRUE</td><td>0.000000000</td><td>0</td><td>bcHSRM</td></tr>\n",
       "\t<tr><td> 8788</td><td>-14444.567</td><td>9.999e-05</td><td>TRUE</td><td>0.000000000</td><td>0</td><td>bcHSRA</td></tr>\n",
       "\t<tr><td> 5990</td><td> -5988.569</td><td>9.999e-05</td><td>TRUE</td><td>0.000000000</td><td>0</td><td>bcHMDA</td></tr>\n",
       "\t<tr><td> 8671</td><td>-12114.998</td><td>9.999e-05</td><td>TRUE</td><td>0.000000000</td><td>0</td><td>bcHYOL</td></tr>\n",
       "\t<tr><td> 8098</td><td>-14680.186</td><td>9.999e-05</td><td>TRUE</td><td>0.000000000</td><td>0</td><td>bcAMFQ</td></tr>\n",
       "\t<tr><td> 8594</td><td>-14520.617</td><td>9.999e-05</td><td>TRUE</td><td>0.000000000</td><td>0</td><td>bcFEDW</td></tr>\n",
       "\t<tr><td> 8145</td><td>-12852.236</td><td>9.999e-05</td><td>TRUE</td><td>0.000000000</td><td>0</td><td>bcGUKJ</td></tr>\n",
       "\t<tr><td> 9436</td><td>-14380.150</td><td>9.999e-05</td><td>TRUE</td><td>0.000000000</td><td>0</td><td>bcIEWD</td></tr>\n",
       "\t<tr><td> 8360</td><td> -9389.896</td><td>9.999e-05</td><td>TRUE</td><td>0.000000000</td><td>0</td><td>bcGAKZ</td></tr>\n",
       "\t<tr><td> 6585</td><td> -8241.177</td><td>9.999e-05</td><td>TRUE</td><td>0.000000000</td><td>0</td><td>bcEEIW</td></tr>\n",
       "\t<tr><td>⋮</td><td>⋮</td><td>⋮</td><td>⋮</td><td>⋮</td><td>⋮</td><td>⋮</td></tr>\n",
       "\t<tr><td>192</td><td>NA</td><td>NA</td><td>NA</td><td>NA</td><td>1</td><td>bcEYTB</td></tr>\n",
       "\t<tr><td>168</td><td>NA</td><td>NA</td><td>NA</td><td>NA</td><td>1</td><td>bcGQGB</td></tr>\n",
       "\t<tr><td>156</td><td>NA</td><td>NA</td><td>NA</td><td>NA</td><td>1</td><td>bcDPPK</td></tr>\n",
       "\t<tr><td>173</td><td>NA</td><td>NA</td><td>NA</td><td>NA</td><td>1</td><td>bcGGDA</td></tr>\n",
       "\t<tr><td>194</td><td>NA</td><td>NA</td><td>NA</td><td>NA</td><td>1</td><td>bcGEIM</td></tr>\n",
       "\t<tr><td>206</td><td>NA</td><td>NA</td><td>NA</td><td>NA</td><td>1</td><td>bcBORI</td></tr>\n",
       "\t<tr><td>143</td><td>NA</td><td>NA</td><td>NA</td><td>NA</td><td>1</td><td>bcIAOK</td></tr>\n",
       "\t<tr><td>151</td><td>NA</td><td>NA</td><td>NA</td><td>NA</td><td>1</td><td>bcDCFA</td></tr>\n",
       "\t<tr><td>161</td><td>NA</td><td>NA</td><td>NA</td><td>NA</td><td>1</td><td>bcHTQD</td></tr>\n",
       "\t<tr><td>183</td><td>NA</td><td>NA</td><td>NA</td><td>NA</td><td>1</td><td>bcBNFD</td></tr>\n",
       "\t<tr><td>172</td><td>NA</td><td>NA</td><td>NA</td><td>NA</td><td>1</td><td>bcEYLO</td></tr>\n",
       "\t<tr><td>179</td><td>NA</td><td>NA</td><td>NA</td><td>NA</td><td>1</td><td>bcGSUU</td></tr>\n",
       "\t<tr><td>181</td><td>NA</td><td>NA</td><td>NA</td><td>NA</td><td>1</td><td>bcCZSR</td></tr>\n",
       "\t<tr><td>204</td><td>NA</td><td>NA</td><td>NA</td><td>NA</td><td>1</td><td>bcHRGW</td></tr>\n",
       "\t<tr><td>145</td><td>NA</td><td>NA</td><td>NA</td><td>NA</td><td>1</td><td>bcEZEJ</td></tr>\n",
       "\t<tr><td>197</td><td>NA</td><td>NA</td><td>NA</td><td>NA</td><td>1</td><td>bcGKXS</td></tr>\n",
       "\t<tr><td>194</td><td>NA</td><td>NA</td><td>NA</td><td>NA</td><td>1</td><td>bcFWFZ</td></tr>\n",
       "\t<tr><td>200</td><td>NA</td><td>NA</td><td>NA</td><td>NA</td><td>1</td><td>bcGFEC</td></tr>\n",
       "\t<tr><td>178</td><td>NA</td><td>NA</td><td>NA</td><td>NA</td><td>1</td><td>bcGCXJ</td></tr>\n",
       "\t<tr><td>183</td><td>NA</td><td>NA</td><td>NA</td><td>NA</td><td>1</td><td>bcCKNJ</td></tr>\n",
       "\t<tr><td>168</td><td>NA</td><td>NA</td><td>NA</td><td>NA</td><td>1</td><td>bcBKTG</td></tr>\n",
       "\t<tr><td>150</td><td>NA</td><td>NA</td><td>NA</td><td>NA</td><td>1</td><td>bcAZUJ</td></tr>\n",
       "\t<tr><td>187</td><td>NA</td><td>NA</td><td>NA</td><td>NA</td><td>1</td><td>bcGQMS</td></tr>\n",
       "\t<tr><td>181</td><td>NA</td><td>NA</td><td>NA</td><td>NA</td><td>1</td><td>bcGXNK</td></tr>\n",
       "\t<tr><td>156</td><td>NA</td><td>NA</td><td>NA</td><td>NA</td><td>1</td><td>bcBBIJ</td></tr>\n",
       "\t<tr><td>186</td><td>NA</td><td>NA</td><td>NA</td><td>NA</td><td>1</td><td>bcCSXX</td></tr>\n",
       "\t<tr><td>165</td><td>NA</td><td>NA</td><td>NA</td><td>NA</td><td>1</td><td>bcEZEZ</td></tr>\n",
       "\t<tr><td>163</td><td>NA</td><td>NA</td><td>NA</td><td>NA</td><td>1</td><td>bcELDF</td></tr>\n",
       "\t<tr><td>147</td><td>NA</td><td>NA</td><td>NA</td><td>NA</td><td>1</td><td>bcGYYS</td></tr>\n",
       "\t<tr><td>192</td><td>NA</td><td>NA</td><td>NA</td><td>NA</td><td>1</td><td>bcESLD</td></tr>\n",
       "</tbody>\n",
       "</table>\n"
      ],
      "text/latex": [
       "A data.frame: 14189 × 7\n",
       "\\begin{tabular}{r|lllllll}\n",
       " Total & LogProb & PValue & Limited & FDR & empty & barcode\\\\\n",
       " <int> & <dbl> & <dbl> & <lgl> & <dbl> & <dbl> & <chr>\\\\\n",
       "\\hline\n",
       "\t  9881 &  -9434.998 & 9.999e-05 & TRUE & 0.000000000 & 0 & bcEFAX\\\\\n",
       "\t  9825 & -10575.418 & 9.999e-05 & TRUE & 0.000000000 & 0 & bcFOEC\\\\\n",
       "\t  7338 &  -7746.110 & 9.999e-05 & TRUE & 0.000000000 & 0 & bcIJXQ\\\\\n",
       "\t 10237 & -16400.995 & 9.999e-05 & TRUE & 0.000000000 & 0 & bcFQMC\\\\\n",
       "\t 10901 & -18395.173 & 9.999e-05 & TRUE & 0.000000000 & 0 & bcHHFW\\\\\n",
       "\t 10441 & -15387.323 & 9.999e-05 & TRUE & 0.000000000 & 0 & bcHMGZ\\\\\n",
       "\t 11439 & -17611.167 & 9.999e-05 & TRUE & 0.000000000 & 0 & bcGJGH\\\\\n",
       "\t  8706 & -18505.348 & 9.999e-05 & TRUE & 0.000000000 & 0 & bcGVOF\\\\\n",
       "\t  8392 & -11779.140 & 9.999e-05 & TRUE & 0.000000000 & 0 & bcGYED\\\\\n",
       "\t  8533 &  -7982.512 & 9.999e-05 & TRUE & 0.000000000 & 0 & bcDVWX\\\\\n",
       "\t  7067 &  -7963.899 & 9.999e-05 & TRUE & 0.000000000 & 0 & bcCZVN\\\\\n",
       "\t  5968 &  -3475.450 & 9.999e-05 & TRUE & 0.000000000 & 0 & bcHCEF\\\\\n",
       "\t  4046 &  -3866.263 & 9.999e-05 & TRUE & 0.000000000 & 0 & bcGRWV\\\\\n",
       "\t  7866 &  -4737.856 & 9.999e-05 & TRUE & 0.000000000 & 0 & bcHXQW\\\\\n",
       "\t  7698 &  -9288.626 & 9.999e-05 & TRUE & 0.000000000 & 0 & bcHXME\\\\\n",
       "\t  9082 & -17275.373 & 9.999e-05 & TRUE & 0.000000000 & 0 & bcHSON\\\\\n",
       "\t  3635 &  -2949.439 & 9.999e-05 & TRUE & 0.000206175 & 0 & bcBOMZ\\\\\n",
       "\t  8869 & -15124.142 & 9.999e-05 & TRUE & 0.000000000 & 0 & bcDYNR\\\\\n",
       "\t  7249 &  -7848.666 & 9.999e-05 & TRUE & 0.000000000 & 0 & bcCQAE\\\\\n",
       "\t  8324 &  -8906.769 & 9.999e-05 & TRUE & 0.000000000 & 0 & bcIHVK\\\\\n",
       "\t  7871 & -12030.430 & 9.999e-05 & TRUE & 0.000000000 & 0 & bcHSRM\\\\\n",
       "\t  8788 & -14444.567 & 9.999e-05 & TRUE & 0.000000000 & 0 & bcHSRA\\\\\n",
       "\t  5990 &  -5988.569 & 9.999e-05 & TRUE & 0.000000000 & 0 & bcHMDA\\\\\n",
       "\t  8671 & -12114.998 & 9.999e-05 & TRUE & 0.000000000 & 0 & bcHYOL\\\\\n",
       "\t  8098 & -14680.186 & 9.999e-05 & TRUE & 0.000000000 & 0 & bcAMFQ\\\\\n",
       "\t  8594 & -14520.617 & 9.999e-05 & TRUE & 0.000000000 & 0 & bcFEDW\\\\\n",
       "\t  8145 & -12852.236 & 9.999e-05 & TRUE & 0.000000000 & 0 & bcGUKJ\\\\\n",
       "\t  9436 & -14380.150 & 9.999e-05 & TRUE & 0.000000000 & 0 & bcIEWD\\\\\n",
       "\t  8360 &  -9389.896 & 9.999e-05 & TRUE & 0.000000000 & 0 & bcGAKZ\\\\\n",
       "\t  6585 &  -8241.177 & 9.999e-05 & TRUE & 0.000000000 & 0 & bcEEIW\\\\\n",
       "\t ⋮ & ⋮ & ⋮ & ⋮ & ⋮ & ⋮ & ⋮\\\\\n",
       "\t 192 & NA & NA & NA & NA & 1 & bcEYTB\\\\\n",
       "\t 168 & NA & NA & NA & NA & 1 & bcGQGB\\\\\n",
       "\t 156 & NA & NA & NA & NA & 1 & bcDPPK\\\\\n",
       "\t 173 & NA & NA & NA & NA & 1 & bcGGDA\\\\\n",
       "\t 194 & NA & NA & NA & NA & 1 & bcGEIM\\\\\n",
       "\t 206 & NA & NA & NA & NA & 1 & bcBORI\\\\\n",
       "\t 143 & NA & NA & NA & NA & 1 & bcIAOK\\\\\n",
       "\t 151 & NA & NA & NA & NA & 1 & bcDCFA\\\\\n",
       "\t 161 & NA & NA & NA & NA & 1 & bcHTQD\\\\\n",
       "\t 183 & NA & NA & NA & NA & 1 & bcBNFD\\\\\n",
       "\t 172 & NA & NA & NA & NA & 1 & bcEYLO\\\\\n",
       "\t 179 & NA & NA & NA & NA & 1 & bcGSUU\\\\\n",
       "\t 181 & NA & NA & NA & NA & 1 & bcCZSR\\\\\n",
       "\t 204 & NA & NA & NA & NA & 1 & bcHRGW\\\\\n",
       "\t 145 & NA & NA & NA & NA & 1 & bcEZEJ\\\\\n",
       "\t 197 & NA & NA & NA & NA & 1 & bcGKXS\\\\\n",
       "\t 194 & NA & NA & NA & NA & 1 & bcFWFZ\\\\\n",
       "\t 200 & NA & NA & NA & NA & 1 & bcGFEC\\\\\n",
       "\t 178 & NA & NA & NA & NA & 1 & bcGCXJ\\\\\n",
       "\t 183 & NA & NA & NA & NA & 1 & bcCKNJ\\\\\n",
       "\t 168 & NA & NA & NA & NA & 1 & bcBKTG\\\\\n",
       "\t 150 & NA & NA & NA & NA & 1 & bcAZUJ\\\\\n",
       "\t 187 & NA & NA & NA & NA & 1 & bcGQMS\\\\\n",
       "\t 181 & NA & NA & NA & NA & 1 & bcGXNK\\\\\n",
       "\t 156 & NA & NA & NA & NA & 1 & bcBBIJ\\\\\n",
       "\t 186 & NA & NA & NA & NA & 1 & bcCSXX\\\\\n",
       "\t 165 & NA & NA & NA & NA & 1 & bcEZEZ\\\\\n",
       "\t 163 & NA & NA & NA & NA & 1 & bcELDF\\\\\n",
       "\t 147 & NA & NA & NA & NA & 1 & bcGYYS\\\\\n",
       "\t 192 & NA & NA & NA & NA & 1 & bcESLD\\\\\n",
       "\\end{tabular}\n"
      ],
      "text/markdown": [
       "\n",
       "A data.frame: 14189 × 7\n",
       "\n",
       "| Total &lt;int&gt; | LogProb &lt;dbl&gt; | PValue &lt;dbl&gt; | Limited &lt;lgl&gt; | FDR &lt;dbl&gt; | empty &lt;dbl&gt; | barcode &lt;chr&gt; |\n",
       "|---|---|---|---|---|---|---|\n",
       "|  9881 |  -9434.998 | 9.999e-05 | TRUE | 0.000000000 | 0 | bcEFAX |\n",
       "|  9825 | -10575.418 | 9.999e-05 | TRUE | 0.000000000 | 0 | bcFOEC |\n",
       "|  7338 |  -7746.110 | 9.999e-05 | TRUE | 0.000000000 | 0 | bcIJXQ |\n",
       "| 10237 | -16400.995 | 9.999e-05 | TRUE | 0.000000000 | 0 | bcFQMC |\n",
       "| 10901 | -18395.173 | 9.999e-05 | TRUE | 0.000000000 | 0 | bcHHFW |\n",
       "| 10441 | -15387.323 | 9.999e-05 | TRUE | 0.000000000 | 0 | bcHMGZ |\n",
       "| 11439 | -17611.167 | 9.999e-05 | TRUE | 0.000000000 | 0 | bcGJGH |\n",
       "|  8706 | -18505.348 | 9.999e-05 | TRUE | 0.000000000 | 0 | bcGVOF |\n",
       "|  8392 | -11779.140 | 9.999e-05 | TRUE | 0.000000000 | 0 | bcGYED |\n",
       "|  8533 |  -7982.512 | 9.999e-05 | TRUE | 0.000000000 | 0 | bcDVWX |\n",
       "|  7067 |  -7963.899 | 9.999e-05 | TRUE | 0.000000000 | 0 | bcCZVN |\n",
       "|  5968 |  -3475.450 | 9.999e-05 | TRUE | 0.000000000 | 0 | bcHCEF |\n",
       "|  4046 |  -3866.263 | 9.999e-05 | TRUE | 0.000000000 | 0 | bcGRWV |\n",
       "|  7866 |  -4737.856 | 9.999e-05 | TRUE | 0.000000000 | 0 | bcHXQW |\n",
       "|  7698 |  -9288.626 | 9.999e-05 | TRUE | 0.000000000 | 0 | bcHXME |\n",
       "|  9082 | -17275.373 | 9.999e-05 | TRUE | 0.000000000 | 0 | bcHSON |\n",
       "|  3635 |  -2949.439 | 9.999e-05 | TRUE | 0.000206175 | 0 | bcBOMZ |\n",
       "|  8869 | -15124.142 | 9.999e-05 | TRUE | 0.000000000 | 0 | bcDYNR |\n",
       "|  7249 |  -7848.666 | 9.999e-05 | TRUE | 0.000000000 | 0 | bcCQAE |\n",
       "|  8324 |  -8906.769 | 9.999e-05 | TRUE | 0.000000000 | 0 | bcIHVK |\n",
       "|  7871 | -12030.430 | 9.999e-05 | TRUE | 0.000000000 | 0 | bcHSRM |\n",
       "|  8788 | -14444.567 | 9.999e-05 | TRUE | 0.000000000 | 0 | bcHSRA |\n",
       "|  5990 |  -5988.569 | 9.999e-05 | TRUE | 0.000000000 | 0 | bcHMDA |\n",
       "|  8671 | -12114.998 | 9.999e-05 | TRUE | 0.000000000 | 0 | bcHYOL |\n",
       "|  8098 | -14680.186 | 9.999e-05 | TRUE | 0.000000000 | 0 | bcAMFQ |\n",
       "|  8594 | -14520.617 | 9.999e-05 | TRUE | 0.000000000 | 0 | bcFEDW |\n",
       "|  8145 | -12852.236 | 9.999e-05 | TRUE | 0.000000000 | 0 | bcGUKJ |\n",
       "|  9436 | -14380.150 | 9.999e-05 | TRUE | 0.000000000 | 0 | bcIEWD |\n",
       "|  8360 |  -9389.896 | 9.999e-05 | TRUE | 0.000000000 | 0 | bcGAKZ |\n",
       "|  6585 |  -8241.177 | 9.999e-05 | TRUE | 0.000000000 | 0 | bcEEIW |\n",
       "| ⋮ | ⋮ | ⋮ | ⋮ | ⋮ | ⋮ | ⋮ |\n",
       "| 192 | NA | NA | NA | NA | 1 | bcEYTB |\n",
       "| 168 | NA | NA | NA | NA | 1 | bcGQGB |\n",
       "| 156 | NA | NA | NA | NA | 1 | bcDPPK |\n",
       "| 173 | NA | NA | NA | NA | 1 | bcGGDA |\n",
       "| 194 | NA | NA | NA | NA | 1 | bcGEIM |\n",
       "| 206 | NA | NA | NA | NA | 1 | bcBORI |\n",
       "| 143 | NA | NA | NA | NA | 1 | bcIAOK |\n",
       "| 151 | NA | NA | NA | NA | 1 | bcDCFA |\n",
       "| 161 | NA | NA | NA | NA | 1 | bcHTQD |\n",
       "| 183 | NA | NA | NA | NA | 1 | bcBNFD |\n",
       "| 172 | NA | NA | NA | NA | 1 | bcEYLO |\n",
       "| 179 | NA | NA | NA | NA | 1 | bcGSUU |\n",
       "| 181 | NA | NA | NA | NA | 1 | bcCZSR |\n",
       "| 204 | NA | NA | NA | NA | 1 | bcHRGW |\n",
       "| 145 | NA | NA | NA | NA | 1 | bcEZEJ |\n",
       "| 197 | NA | NA | NA | NA | 1 | bcGKXS |\n",
       "| 194 | NA | NA | NA | NA | 1 | bcFWFZ |\n",
       "| 200 | NA | NA | NA | NA | 1 | bcGFEC |\n",
       "| 178 | NA | NA | NA | NA | 1 | bcGCXJ |\n",
       "| 183 | NA | NA | NA | NA | 1 | bcCKNJ |\n",
       "| 168 | NA | NA | NA | NA | 1 | bcBKTG |\n",
       "| 150 | NA | NA | NA | NA | 1 | bcAZUJ |\n",
       "| 187 | NA | NA | NA | NA | 1 | bcGQMS |\n",
       "| 181 | NA | NA | NA | NA | 1 | bcGXNK |\n",
       "| 156 | NA | NA | NA | NA | 1 | bcBBIJ |\n",
       "| 186 | NA | NA | NA | NA | 1 | bcCSXX |\n",
       "| 165 | NA | NA | NA | NA | 1 | bcEZEZ |\n",
       "| 163 | NA | NA | NA | NA | 1 | bcELDF |\n",
       "| 147 | NA | NA | NA | NA | 1 | bcGYYS |\n",
       "| 192 | NA | NA | NA | NA | 1 | bcESLD |\n",
       "\n"
      ],
      "text/plain": [
       "      Total LogProb    PValue    Limited FDR         empty barcode\n",
       "1      9881  -9434.998 9.999e-05 TRUE    0.000000000 0     bcEFAX \n",
       "2      9825 -10575.418 9.999e-05 TRUE    0.000000000 0     bcFOEC \n",
       "3      7338  -7746.110 9.999e-05 TRUE    0.000000000 0     bcIJXQ \n",
       "4     10237 -16400.995 9.999e-05 TRUE    0.000000000 0     bcFQMC \n",
       "5     10901 -18395.173 9.999e-05 TRUE    0.000000000 0     bcHHFW \n",
       "6     10441 -15387.323 9.999e-05 TRUE    0.000000000 0     bcHMGZ \n",
       "7     11439 -17611.167 9.999e-05 TRUE    0.000000000 0     bcGJGH \n",
       "8      8706 -18505.348 9.999e-05 TRUE    0.000000000 0     bcGVOF \n",
       "9      8392 -11779.140 9.999e-05 TRUE    0.000000000 0     bcGYED \n",
       "10     8533  -7982.512 9.999e-05 TRUE    0.000000000 0     bcDVWX \n",
       "11     7067  -7963.899 9.999e-05 TRUE    0.000000000 0     bcCZVN \n",
       "12     5968  -3475.450 9.999e-05 TRUE    0.000000000 0     bcHCEF \n",
       "13     4046  -3866.263 9.999e-05 TRUE    0.000000000 0     bcGRWV \n",
       "14     7866  -4737.856 9.999e-05 TRUE    0.000000000 0     bcHXQW \n",
       "15     7698  -9288.626 9.999e-05 TRUE    0.000000000 0     bcHXME \n",
       "16     9082 -17275.373 9.999e-05 TRUE    0.000000000 0     bcHSON \n",
       "17     3635  -2949.439 9.999e-05 TRUE    0.000206175 0     bcBOMZ \n",
       "18     8869 -15124.142 9.999e-05 TRUE    0.000000000 0     bcDYNR \n",
       "19     7249  -7848.666 9.999e-05 TRUE    0.000000000 0     bcCQAE \n",
       "20     8324  -8906.769 9.999e-05 TRUE    0.000000000 0     bcIHVK \n",
       "21     7871 -12030.430 9.999e-05 TRUE    0.000000000 0     bcHSRM \n",
       "22     8788 -14444.567 9.999e-05 TRUE    0.000000000 0     bcHSRA \n",
       "23     5990  -5988.569 9.999e-05 TRUE    0.000000000 0     bcHMDA \n",
       "24     8671 -12114.998 9.999e-05 TRUE    0.000000000 0     bcHYOL \n",
       "25     8098 -14680.186 9.999e-05 TRUE    0.000000000 0     bcAMFQ \n",
       "26     8594 -14520.617 9.999e-05 TRUE    0.000000000 0     bcFEDW \n",
       "27     8145 -12852.236 9.999e-05 TRUE    0.000000000 0     bcGUKJ \n",
       "28     9436 -14380.150 9.999e-05 TRUE    0.000000000 0     bcIEWD \n",
       "29     8360  -9389.896 9.999e-05 TRUE    0.000000000 0     bcGAKZ \n",
       "30     6585  -8241.177 9.999e-05 TRUE    0.000000000 0     bcEEIW \n",
       "⋮     ⋮     ⋮          ⋮         ⋮       ⋮           ⋮     ⋮      \n",
       "14160 192   NA         NA        NA      NA          1     bcEYTB \n",
       "14161 168   NA         NA        NA      NA          1     bcGQGB \n",
       "14162 156   NA         NA        NA      NA          1     bcDPPK \n",
       "14163 173   NA         NA        NA      NA          1     bcGGDA \n",
       "14164 194   NA         NA        NA      NA          1     bcGEIM \n",
       "14165 206   NA         NA        NA      NA          1     bcBORI \n",
       "14166 143   NA         NA        NA      NA          1     bcIAOK \n",
       "14167 151   NA         NA        NA      NA          1     bcDCFA \n",
       "14168 161   NA         NA        NA      NA          1     bcHTQD \n",
       "14169 183   NA         NA        NA      NA          1     bcBNFD \n",
       "14170 172   NA         NA        NA      NA          1     bcEYLO \n",
       "14171 179   NA         NA        NA      NA          1     bcGSUU \n",
       "14172 181   NA         NA        NA      NA          1     bcCZSR \n",
       "14173 204   NA         NA        NA      NA          1     bcHRGW \n",
       "14174 145   NA         NA        NA      NA          1     bcEZEJ \n",
       "14175 197   NA         NA        NA      NA          1     bcGKXS \n",
       "14176 194   NA         NA        NA      NA          1     bcFWFZ \n",
       "14177 200   NA         NA        NA      NA          1     bcGFEC \n",
       "14178 178   NA         NA        NA      NA          1     bcGCXJ \n",
       "14179 183   NA         NA        NA      NA          1     bcCKNJ \n",
       "14180 168   NA         NA        NA      NA          1     bcBKTG \n",
       "14181 150   NA         NA        NA      NA          1     bcAZUJ \n",
       "14182 187   NA         NA        NA      NA          1     bcGQMS \n",
       "14183 181   NA         NA        NA      NA          1     bcGXNK \n",
       "14184 156   NA         NA        NA      NA          1     bcBBIJ \n",
       "14185 186   NA         NA        NA      NA          1     bcCSXX \n",
       "14186 165   NA         NA        NA      NA          1     bcEZEZ \n",
       "14187 163   NA         NA        NA      NA          1     bcELDF \n",
       "14188 147   NA         NA        NA      NA          1     bcGYYS \n",
       "14189 192   NA         NA        NA      NA          1     bcESLD "
      ]
     },
     "metadata": {},
     "output_type": "display_data"
    }
   ],
   "source": [
    "emptyDrops_thresh_output"
   ]
  },
  {
   "cell_type": "code",
   "execution_count": 17,
   "metadata": {},
   "outputs": [
    {
     "data": {
      "text/html": [
       "11097"
      ],
      "text/latex": [
       "11097"
      ],
      "text/markdown": [
       "11097"
      ],
      "text/plain": [
       "[1] 11097"
      ]
     },
     "metadata": {},
     "output_type": "display_data"
    }
   ],
   "source": [
    "sum(emptyDrops_thresh_output$empty) # total number of empty drops based on emptyDrops threshold"
   ]
  },
  {
   "cell_type": "code",
   "execution_count": 18,
   "metadata": {},
   "outputs": [],
   "source": [
    "write.csv(emptyDrops_thresh_output,\"testing/emptyDrops-thresh-2771-S3.csv\", row.names = FALSE)"
   ]
  },
  {
   "cell_type": "code",
   "execution_count": null,
   "metadata": {},
   "outputs": [],
   "source": []
  },
  {
   "cell_type": "code",
   "execution_count": null,
   "metadata": {},
   "outputs": [],
   "source": []
  }
 ],
 "metadata": {
  "kernelspec": {
   "display_name": "R",
   "language": "R",
   "name": "ir"
  },
  "language_info": {
   "codemirror_mode": "r",
   "file_extension": ".r",
   "mimetype": "text/x-r-source",
   "name": "R",
   "pygments_lexer": "r",
   "version": "3.6.1"
  }
 },
 "nbformat": 4,
 "nbformat_minor": 4
}
