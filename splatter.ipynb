{
 "cells": [
  {
   "cell_type": "code",
   "execution_count": 1,
   "metadata": {},
   "outputs": [
    {
     "ename": "ERROR",
     "evalue": "Error in parse(text = x, srcfile = src): <text>:4:24: unexpected input\n3: library(gdata)\n4: all.counts <- read.xls(<e2>\n                          ^\n",
     "output_type": "error",
     "traceback": [
      "Error in parse(text = x, srcfile = src): <text>:4:24: unexpected input\n3: library(gdata)\n4: all.counts <- read.xls(<e2>\n                          ^\nTraceback:\n"
     ]
    }
   ],
   "source": [
    "library(R.utils)\n",
    "gunzip(\"GSE61533_HTSEQ_count_results.xls.gz\", remove=FALSE, overwrite=TRUE)\n",
    "library(gdata)\n",
    "all.counts <- read.xls(’GSE61533_HTSEQ_count_results.xls’, sheet=1, header=TRUE, row.names=1)\n",
    "library(scater)\n",
    "sce <- newSCESet(countData=all.counts)\n",
    "dim(sce)"
   ]
  },
  {
   "cell_type": "code",
   "execution_count": 2,
   "metadata": {},
   "outputs": [
    {
     "ename": "ERROR",
     "evalue": "Error in rownames(sce): object 'sce' not found\n",
     "output_type": "error",
     "traceback": [
      "Error in rownames(sce): object 'sce' not found\nTraceback:\n",
      "1. grepl(\"^ERCC\", rownames(sce))",
      "2. rownames(sce)"
     ]
    }
   ],
   "source": [
    "is.spike <- grepl(\"^ERCC\", rownames(sce))\n",
    "is.mito <- grepl(\"^mt-\", rownames(sce))"
   ]
  },
  {
   "cell_type": "code",
   "execution_count": null,
   "metadata": {},
   "outputs": [],
   "source": []
  }
 ],
 "metadata": {
  "kernelspec": {
   "display_name": "R",
   "language": "R",
   "name": "ir"
  },
  "language_info": {
   "codemirror_mode": "r",
   "file_extension": ".r",
   "mimetype": "text/x-r-source",
   "name": "R",
   "pygments_lexer": "r",
   "version": "3.6.1"
  }
 },
 "nbformat": 4,
 "nbformat_minor": 4
}
